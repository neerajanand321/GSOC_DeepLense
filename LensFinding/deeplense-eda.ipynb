{
 "cells": [
  {
   "cell_type": "markdown",
   "id": "5455c51d",
   "metadata": {
    "execution": {
     "iopub.execute_input": "2023-03-16T16:08:32.283954Z",
     "iopub.status.busy": "2023-03-16T16:08:32.283489Z",
     "iopub.status.idle": "2023-03-16T16:08:32.292891Z",
     "shell.execute_reply": "2023-03-16T16:08:32.290647Z",
     "shell.execute_reply.started": "2023-03-16T16:08:32.283912Z"
    },
    "papermill": {
     "duration": 0.007086,
     "end_time": "2023-03-21T13:26:07.250353",
     "exception": false,
     "start_time": "2023-03-21T13:26:07.243267",
     "status": "completed"
    },
    "tags": []
   },
   "source": [
    "## Data Analysis and PreProcessing\n",
    "\n",
    "This notebook demonstrates the analysis and preprocessing of the data provided for task **Gravitational Lens Finding for dark matter**\n",
    "\n",
    "### WorkFlow\n",
    "- Extract the data from `.tgz` file using `tarfile`\n",
    "- Read and Plot the Data form `.fits` file using `astropy` library\n",
    "- Plot histogram of `is_lens` to know the imablance of target\n",
    "- Saved the images as npy file and append its path in `classifications.csv`\n"
   ]
  },
  {
   "cell_type": "code",
   "execution_count": 1,
   "id": "4141669c",
   "metadata": {
    "execution": {
     "iopub.execute_input": "2023-03-21T13:26:07.264296Z",
     "iopub.status.busy": "2023-03-21T13:26:07.263876Z",
     "iopub.status.idle": "2023-03-21T13:26:07.495967Z",
     "shell.execute_reply": "2023-03-21T13:26:07.494626Z"
    },
    "papermill": {
     "duration": 0.24242,
     "end_time": "2023-03-21T13:26:07.498999",
     "exception": false,
     "start_time": "2023-03-21T13:26:07.256579",
     "status": "completed"
    },
    "tags": []
   },
   "outputs": [],
   "source": [
    "# Importing necessary libraries\n",
    "import numpy as np\n",
    "import pandas as pd\n",
    "import matplotlib.pyplot as plt\n",
    "import tarfile\n",
    "from tqdm import tqdm\n",
    "import os\n",
    "import glob\n",
    "import cv2\n",
    "import shutil"
   ]
  },
  {
   "cell_type": "code",
   "execution_count": 2,
   "id": "465c1ebf",
   "metadata": {
    "execution": {
     "iopub.execute_input": "2023-03-21T13:26:07.512416Z",
     "iopub.status.busy": "2023-03-21T13:26:07.512014Z",
     "iopub.status.idle": "2023-03-21T13:26:09.487108Z",
     "shell.execute_reply": "2023-03-21T13:26:09.486097Z"
    },
    "papermill": {
     "duration": 1.985251,
     "end_time": "2023-03-21T13:26:09.489910",
     "exception": false,
     "start_time": "2023-03-21T13:26:07.504659",
     "status": "completed"
    },
    "tags": []
   },
   "outputs": [],
   "source": [
    "# Importing astronomical libraries\n",
    "from astropy.io import fits\n",
    "from astropy.visualization import astropy_mpl_style\n",
    "from astropy.utils.data import get_pkg_data_filename\n",
    "\n",
    "plt.style.use(astropy_mpl_style)"
   ]
  },
  {
   "cell_type": "code",
   "execution_count": 3,
   "id": "1f0febfe",
   "metadata": {
    "execution": {
     "iopub.execute_input": "2023-03-21T13:26:09.503198Z",
     "iopub.status.busy": "2023-03-21T13:26:09.502487Z",
     "iopub.status.idle": "2023-03-21T13:26:09.508597Z",
     "shell.execute_reply": "2023-03-21T13:26:09.507339Z"
    },
    "papermill": {
     "duration": 0.016278,
     "end_time": "2023-03-21T13:26:09.511667",
     "exception": false,
     "start_time": "2023-03-21T13:26:09.495389",
     "status": "completed"
    },
    "tags": []
   },
   "outputs": [],
   "source": [
    "os.mkdir('/kaggle/working/DeepLense')\n",
    "os.mkdir('/kaggle/working/DeepLense/images')"
   ]
  },
  {
   "cell_type": "code",
   "execution_count": 4,
   "id": "1439c1d5",
   "metadata": {
    "execution": {
     "iopub.execute_input": "2023-03-21T13:26:09.524230Z",
     "iopub.status.busy": "2023-03-21T13:26:09.523691Z",
     "iopub.status.idle": "2023-03-21T13:26:28.574201Z",
     "shell.execute_reply": "2023-03-21T13:26:28.572665Z"
    },
    "papermill": {
     "duration": 19.060158,
     "end_time": "2023-03-21T13:26:28.577188",
     "exception": false,
     "start_time": "2023-03-21T13:26:09.517030",
     "status": "completed"
    },
    "tags": []
   },
   "outputs": [],
   "source": [
    "# Opening .tgz file and saving it in kaggle working directory\n",
    "file = tarfile.open('/kaggle/input/deepleanse-2/lens_finding.tgz')\n",
    "file.extractall('/kaggle/working')\n",
    "file.close()"
   ]
  },
  {
   "cell_type": "code",
   "execution_count": 5,
   "id": "c21fd6ae",
   "metadata": {
    "execution": {
     "iopub.execute_input": "2023-03-21T13:26:28.590461Z",
     "iopub.status.busy": "2023-03-21T13:26:28.589854Z",
     "iopub.status.idle": "2023-03-21T13:26:28.650692Z",
     "shell.execute_reply": "2023-03-21T13:26:28.649270Z"
    },
    "papermill": {
     "duration": 0.071998,
     "end_time": "2023-03-21T13:26:28.654827",
     "exception": false,
     "start_time": "2023-03-21T13:26:28.582829",
     "status": "completed"
    },
    "tags": []
   },
   "outputs": [
    {
     "data": {
      "text/html": [
       "<div>\n",
       "<style scoped>\n",
       "    .dataframe tbody tr th:only-of-type {\n",
       "        vertical-align: middle;\n",
       "    }\n",
       "\n",
       "    .dataframe tbody tr th {\n",
       "        vertical-align: top;\n",
       "    }\n",
       "\n",
       "    .dataframe thead th {\n",
       "        text-align: right;\n",
       "    }\n",
       "</style>\n",
       "<table border=\"1\" class=\"dataframe\">\n",
       "  <thead>\n",
       "    <tr style=\"text-align: right;\">\n",
       "      <th></th>\n",
       "      <th>ID</th>\n",
       "      <th>is_lens</th>\n",
       "      <th>Einstein_area</th>\n",
       "      <th>numb_pix_lensed_image</th>\n",
       "      <th>flux_lensed_image_in_sigma</th>\n",
       "      <th>image_path</th>\n",
       "    </tr>\n",
       "  </thead>\n",
       "  <tbody>\n",
       "    <tr>\n",
       "      <th>0</th>\n",
       "      <td>100000</td>\n",
       "      <td>1</td>\n",
       "      <td>8.633760e-10</td>\n",
       "      <td>171</td>\n",
       "      <td>195.429</td>\n",
       "      <td>.</td>\n",
       "    </tr>\n",
       "    <tr>\n",
       "      <th>1</th>\n",
       "      <td>100001</td>\n",
       "      <td>1</td>\n",
       "      <td>1.317890e-10</td>\n",
       "      <td>294</td>\n",
       "      <td>855.589</td>\n",
       "      <td>.</td>\n",
       "    </tr>\n",
       "    <tr>\n",
       "      <th>2</th>\n",
       "      <td>100002</td>\n",
       "      <td>1</td>\n",
       "      <td>4.877250e-12</td>\n",
       "      <td>140</td>\n",
       "      <td>486.113</td>\n",
       "      <td>.</td>\n",
       "    </tr>\n",
       "    <tr>\n",
       "      <th>3</th>\n",
       "      <td>100003</td>\n",
       "      <td>1</td>\n",
       "      <td>1.440160e-09</td>\n",
       "      <td>1500</td>\n",
       "      <td>10467.400</td>\n",
       "      <td>.</td>\n",
       "    </tr>\n",
       "    <tr>\n",
       "      <th>4</th>\n",
       "      <td>100004</td>\n",
       "      <td>0</td>\n",
       "      <td>2.197350e-11</td>\n",
       "      <td>0</td>\n",
       "      <td>0.000</td>\n",
       "      <td>.</td>\n",
       "    </tr>\n",
       "    <tr>\n",
       "      <th>5</th>\n",
       "      <td>100005</td>\n",
       "      <td>0</td>\n",
       "      <td>2.804930e-10</td>\n",
       "      <td>0</td>\n",
       "      <td>0.000</td>\n",
       "      <td>.</td>\n",
       "    </tr>\n",
       "    <tr>\n",
       "      <th>6</th>\n",
       "      <td>100006</td>\n",
       "      <td>0</td>\n",
       "      <td>2.261430e-10</td>\n",
       "      <td>0</td>\n",
       "      <td>0.000</td>\n",
       "      <td>.</td>\n",
       "    </tr>\n",
       "    <tr>\n",
       "      <th>7</th>\n",
       "      <td>100007</td>\n",
       "      <td>1</td>\n",
       "      <td>1.466810e-10</td>\n",
       "      <td>213</td>\n",
       "      <td>829.363</td>\n",
       "      <td>.</td>\n",
       "    </tr>\n",
       "    <tr>\n",
       "      <th>8</th>\n",
       "      <td>100008</td>\n",
       "      <td>1</td>\n",
       "      <td>5.512840e-11</td>\n",
       "      <td>812</td>\n",
       "      <td>9446.660</td>\n",
       "      <td>.</td>\n",
       "    </tr>\n",
       "    <tr>\n",
       "      <th>9</th>\n",
       "      <td>100009</td>\n",
       "      <td>0</td>\n",
       "      <td>1.608170e-09</td>\n",
       "      <td>0</td>\n",
       "      <td>0.000</td>\n",
       "      <td>.</td>\n",
       "    </tr>\n",
       "  </tbody>\n",
       "</table>\n",
       "</div>"
      ],
      "text/plain": [
       "       ID  is_lens  Einstein_area  numb_pix_lensed_image  \\\n",
       "0  100000        1   8.633760e-10                    171   \n",
       "1  100001        1   1.317890e-10                    294   \n",
       "2  100002        1   4.877250e-12                    140   \n",
       "3  100003        1   1.440160e-09                   1500   \n",
       "4  100004        0   2.197350e-11                      0   \n",
       "5  100005        0   2.804930e-10                      0   \n",
       "6  100006        0   2.261430e-10                      0   \n",
       "7  100007        1   1.466810e-10                    213   \n",
       "8  100008        1   5.512840e-11                    812   \n",
       "9  100009        0   1.608170e-09                      0   \n",
       "\n",
       "   flux_lensed_image_in_sigma image_path  \n",
       "0                     195.429          .  \n",
       "1                     855.589          .  \n",
       "2                     486.113          .  \n",
       "3                   10467.400          .  \n",
       "4                       0.000          .  \n",
       "5                       0.000          .  \n",
       "6                       0.000          .  \n",
       "7                     829.363          .  \n",
       "8                    9446.660          .  \n",
       "9                       0.000          .  "
      ]
     },
     "execution_count": 5,
     "metadata": {},
     "output_type": "execute_result"
    }
   ],
   "source": [
    "# Reading classification_csv and adding one extra column to store the path of generated png image\n",
    "classification_csv = pd.read_csv('/kaggle/working/SpaceBasedTraining/classifications.csv')\n",
    "classification_csv['image_path'] = '.'\n",
    "classification_csv.head(10)"
   ]
  },
  {
   "cell_type": "code",
   "execution_count": 6,
   "id": "8d0e85c7",
   "metadata": {
    "execution": {
     "iopub.execute_input": "2023-03-21T13:26:28.668327Z",
     "iopub.status.busy": "2023-03-21T13:26:28.667872Z",
     "iopub.status.idle": "2023-03-21T13:26:29.574132Z",
     "shell.execute_reply": "2023-03-21T13:26:29.573088Z"
    },
    "papermill": {
     "duration": 0.916334,
     "end_time": "2023-03-21T13:26:29.577034",
     "exception": false,
     "start_time": "2023-03-21T13:26:28.660700",
     "status": "completed"
    },
    "tags": []
   },
   "outputs": [
    {
     "data": {
      "text/plain": [
       "<matplotlib.colorbar.Colorbar at 0x7fb1327497d0>"
      ]
     },
     "execution_count": 6,
     "metadata": {},
     "output_type": "execute_result"
    },
    {
     "data": {
      "image/png": "[encoded data removed]",
      "text/plain": [
       "<Figure size 700x350 with 4 Axes>"
      ]
     },
     "metadata": {},
     "output_type": "display_data"
    }
   ],
   "source": [
    "# Loading image from .fits file and plotting it\n",
    "image_file_1 = get_pkg_data_filename('/kaggle/working/SpaceBasedTraining/files/imageEUC_VIS-100008.fits')\n",
    "image_file_0 = get_pkg_data_filename('/kaggle/working/SpaceBasedTraining/files/imageEUC_VIS-100009.fits')\n",
    "\n",
    "image_data_1 = fits.getdata(image_file_1, ext=0)\n",
    "image_data_0 = fits.getdata(image_file_0, ext=0)\n",
    "\n",
    "plt.rcParams[\"figure.figsize\"] = [7.00, 3.50]\n",
    "plt.rcParams[\"figure.autolayout\"] = True\n",
    "plt.subplot(1, 2, 1)\n",
    "plt.title(\"is_lens = 1\")\n",
    "plt.imshow(image_data_1, cmap='gray')\n",
    "plt.colorbar()\n",
    "plt.subplot(1, 2, 2)\n",
    "plt.title(\"is_lens = 0\")\n",
    "plt.imshow(image_data_0, cmap='gray')\n",
    "plt.colorbar()"
   ]
  },
  {
   "cell_type": "code",
   "execution_count": 7,
   "id": "a2726d56",
   "metadata": {
    "execution": {
     "iopub.execute_input": "2023-03-21T13:26:29.594147Z",
     "iopub.status.busy": "2023-03-21T13:26:29.593713Z",
     "iopub.status.idle": "2023-03-21T13:26:29.604001Z",
     "shell.execute_reply": "2023-03-21T13:26:29.602221Z"
    },
    "papermill": {
     "duration": 0.022382,
     "end_time": "2023-03-21T13:26:29.606987",
     "exception": false,
     "start_time": "2023-03-21T13:26:29.584605",
     "status": "completed"
    },
    "tags": []
   },
   "outputs": [
    {
     "name": "stdout",
     "output_type": "stream",
     "text": [
      "Filename: /kaggle/working/SpaceBasedTraining/files/imageEUC_VIS-100008.fits\n",
      "No.    Name      Ver    Type      Cards   Dimensions   Format\n",
      "  0  PRIMARY       1 PrimaryHDU      29   (101, 101)   float32   \n"
     ]
    }
   ],
   "source": [
    "hdul = fits.open(image_file_1)\n",
    "hdul.info()"
   ]
  },
  {
   "cell_type": "code",
   "execution_count": 8,
   "id": "41b35ce8",
   "metadata": {
    "execution": {
     "iopub.execute_input": "2023-03-21T13:26:29.625117Z",
     "iopub.status.busy": "2023-03-21T13:26:29.624343Z",
     "iopub.status.idle": "2023-03-21T13:26:29.631712Z",
     "shell.execute_reply": "2023-03-21T13:26:29.629952Z"
    },
    "papermill": {
     "duration": 0.019678,
     "end_time": "2023-03-21T13:26:29.634860",
     "exception": false,
     "start_time": "2023-03-21T13:26:29.615182",
     "status": "completed"
    },
    "tags": []
   },
   "outputs": [
    {
     "name": "stdout",
     "output_type": "stream",
     "text": [
      "(101, 101)\n"
     ]
    }
   ],
   "source": [
    "print(image_data_1.shape)"
   ]
  },
  {
   "cell_type": "code",
   "execution_count": 9,
   "id": "b18e3033",
   "metadata": {
    "execution": {
     "iopub.execute_input": "2023-03-21T13:26:29.652459Z",
     "iopub.status.busy": "2023-03-21T13:26:29.652006Z",
     "iopub.status.idle": "2023-03-21T13:26:29.859400Z",
     "shell.execute_reply": "2023-03-21T13:26:29.858250Z"
    },
    "papermill": {
     "duration": 0.220011,
     "end_time": "2023-03-21T13:26:29.862471",
     "exception": false,
     "start_time": "2023-03-21T13:26:29.642460",
     "status": "completed"
    },
    "tags": []
   },
   "outputs": [
    {
     "data": {
      "text/plain": [
       "[]"
      ]
     },
     "execution_count": 9,
     "metadata": {},
     "output_type": "execute_result"
    },
    {
     "data": {
      "image/png": "[encoded data removed]",
      "text/plain": [
       "<Figure size 400x400 with 1 Axes>"
      ]
     },
     "metadata": {},
     "output_type": "display_data"
    }
   ],
   "source": [
    "# plotting histogram of is_lens\n",
    "plt.figure(figsize=(4, 4))\n",
    "plt.hist(classification_csv['is_lens'])\n",
    "plt.plot()"
   ]
  },
  {
   "cell_type": "code",
   "execution_count": 10,
   "id": "19632566",
   "metadata": {
    "execution": {
     "iopub.execute_input": "2023-03-21T13:26:29.880451Z",
     "iopub.status.busy": "2023-03-21T13:26:29.880016Z",
     "iopub.status.idle": "2023-03-21T13:26:29.893337Z",
     "shell.execute_reply": "2023-03-21T13:26:29.892096Z"
    },
    "papermill": {
     "duration": 0.025232,
     "end_time": "2023-03-21T13:26:29.895836",
     "exception": false,
     "start_time": "2023-03-21T13:26:29.870604",
     "status": "completed"
    },
    "tags": []
   },
   "outputs": [
    {
     "data": {
      "text/plain": [
       "1    12574\n",
       "0     5426\n",
       "Name: is_lens, dtype: int64"
      ]
     },
     "execution_count": 10,
     "metadata": {},
     "output_type": "execute_result"
    }
   ],
   "source": [
    "classification_csv['is_lens'].value_counts()"
   ]
  },
  {
   "cell_type": "markdown",
   "id": "8b64fefa",
   "metadata": {
    "execution": {
     "iopub.execute_input": "2023-03-16T16:16:02.470734Z",
     "iopub.status.busy": "2023-03-16T16:16:02.470245Z",
     "iopub.status.idle": "2023-03-16T16:16:02.475922Z",
     "shell.execute_reply": "2023-03-16T16:16:02.474484Z",
     "shell.execute_reply.started": "2023-03-16T16:16:02.470693Z"
    },
    "papermill": {
     "duration": 0.00771,
     "end_time": "2023-03-21T13:26:29.911663",
     "exception": false,
     "start_time": "2023-03-21T13:26:29.903953",
     "status": "completed"
    },
    "tags": []
   },
   "source": [
    "There is little imbalance in data"
   ]
  },
  {
   "cell_type": "code",
   "execution_count": 11,
   "id": "1ee71aaf",
   "metadata": {
    "execution": {
     "iopub.execute_input": "2023-03-21T13:26:29.931722Z",
     "iopub.status.busy": "2023-03-21T13:26:29.931292Z",
     "iopub.status.idle": "2023-03-21T13:26:29.939622Z",
     "shell.execute_reply": "2023-03-21T13:26:29.938155Z"
    },
    "papermill": {
     "duration": 0.021091,
     "end_time": "2023-03-21T13:26:29.942695",
     "exception": false,
     "start_time": "2023-03-21T13:26:29.921604",
     "status": "completed"
    },
    "tags": []
   },
   "outputs": [],
   "source": [
    "# Function to load image from .fits file and saving as png \n",
    "def fit_to_png(path):\n",
    "    flag = \"Success\"\n",
    "    image_file = get_pkg_data_filename(path)\n",
    "    image_data = fits.getdata(image_file)\n",
    "    ID = path.split('/')[5].split('-')[1].split('.')[0]\n",
    "    save_path = '/kaggle/working/DeepLense/images/'+str(ID)+'.npy'\n",
    "    image_path = '/kaggle/input/deeplense-2/DeepLense/images/'+str(ID)+'.npy'\n",
    "    result = np.save(save_path, image_data)\n",
    "    classification_csv.loc[classification_csv['ID']==int(ID), 'image_path'] = image_path\n",
    "    if result==False:\n",
    "        flag = \"Error\"\n",
    "    return flag"
   ]
  },
  {
   "cell_type": "code",
   "execution_count": 12,
   "id": "12a5bd3d",
   "metadata": {
    "execution": {
     "iopub.execute_input": "2023-03-21T13:26:29.961454Z",
     "iopub.status.busy": "2023-03-21T13:26:29.960991Z",
     "iopub.status.idle": "2023-03-21T13:26:30.035169Z",
     "shell.execute_reply": "2023-03-21T13:26:30.033806Z"
    },
    "papermill": {
     "duration": 0.087408,
     "end_time": "2023-03-21T13:26:30.038342",
     "exception": false,
     "start_time": "2023-03-21T13:26:29.950934",
     "status": "completed"
    },
    "tags": []
   },
   "outputs": [
    {
     "data": {
      "text/plain": [
       "18000"
      ]
     },
     "execution_count": 12,
     "metadata": {},
     "output_type": "execute_result"
    }
   ],
   "source": [
    "# Creating list of all fit file\n",
    "fit_file_paths = glob.glob('/kaggle/working/SpaceBasedTraining/files/*')\n",
    "len(fit_file_paths)"
   ]
  },
  {
   "cell_type": "code",
   "execution_count": 13,
   "id": "8e163323",
   "metadata": {
    "execution": {
     "iopub.execute_input": "2023-03-21T13:26:30.059342Z",
     "iopub.status.busy": "2023-03-21T13:26:30.057899Z",
     "iopub.status.idle": "2023-03-21T13:30:37.998205Z",
     "shell.execute_reply": "2023-03-21T13:30:37.996817Z"
    },
    "papermill": {
     "duration": 247.955084,
     "end_time": "2023-03-21T13:30:38.002114",
     "exception": false,
     "start_time": "2023-03-21T13:26:30.047030",
     "status": "completed"
    },
    "tags": []
   },
   "outputs": [
    {
     "name": "stderr",
     "output_type": "stream",
     "text": [
      "100%|██████████| 18000/18000 [04:07<00:00, 72.60it/s]\n"
     ]
    }
   ],
   "source": [
    "# Converting all images under fit file into png image\n",
    "count = 0\n",
    "for i in tqdm(fit_file_paths):\n",
    "    res = fit_to_png(i)\n",
    "    if(res==\"Success\"):\n",
    "        count = count+1"
   ]
  },
  {
   "cell_type": "code",
   "execution_count": 14,
   "id": "bf1a644d",
   "metadata": {
    "execution": {
     "iopub.execute_input": "2023-03-21T13:30:38.309239Z",
     "iopub.status.busy": "2023-03-21T13:30:38.308851Z",
     "iopub.status.idle": "2023-03-21T13:30:38.315863Z",
     "shell.execute_reply": "2023-03-21T13:30:38.314599Z"
    },
    "papermill": {
     "duration": 0.165232,
     "end_time": "2023-03-21T13:30:38.318998",
     "exception": false,
     "start_time": "2023-03-21T13:30:38.153766",
     "status": "completed"
    },
    "tags": []
   },
   "outputs": [
    {
     "data": {
      "text/plain": [
       "18000"
      ]
     },
     "execution_count": 14,
     "metadata": {},
     "output_type": "execute_result"
    }
   ],
   "source": [
    "count"
   ]
  },
  {
   "cell_type": "code",
   "execution_count": 15,
   "id": "a13a7549",
   "metadata": {
    "execution": {
     "iopub.execute_input": "2023-03-21T13:30:38.619763Z",
     "iopub.status.busy": "2023-03-21T13:30:38.619320Z",
     "iopub.status.idle": "2023-03-21T13:30:38.633340Z",
     "shell.execute_reply": "2023-03-21T13:30:38.632089Z"
    },
    "papermill": {
     "duration": 0.16844,
     "end_time": "2023-03-21T13:30:38.636139",
     "exception": false,
     "start_time": "2023-03-21T13:30:38.467699",
     "status": "completed"
    },
    "tags": []
   },
   "outputs": [
    {
     "data": {
      "text/html": [
       "<div>\n",
       "<style scoped>\n",
       "    .dataframe tbody tr th:only-of-type {\n",
       "        vertical-align: middle;\n",
       "    }\n",
       "\n",
       "    .dataframe tbody tr th {\n",
       "        vertical-align: top;\n",
       "    }\n",
       "\n",
       "    .dataframe thead th {\n",
       "        text-align: right;\n",
       "    }\n",
       "</style>\n",
       "<table border=\"1\" class=\"dataframe\">\n",
       "  <thead>\n",
       "    <tr style=\"text-align: right;\">\n",
       "      <th></th>\n",
       "      <th>ID</th>\n",
       "      <th>is_lens</th>\n",
       "      <th>Einstein_area</th>\n",
       "      <th>numb_pix_lensed_image</th>\n",
       "      <th>flux_lensed_image_in_sigma</th>\n",
       "      <th>image_path</th>\n",
       "    </tr>\n",
       "  </thead>\n",
       "  <tbody>\n",
       "    <tr>\n",
       "      <th>0</th>\n",
       "      <td>100000</td>\n",
       "      <td>1</td>\n",
       "      <td>8.633760e-10</td>\n",
       "      <td>171</td>\n",
       "      <td>195.429</td>\n",
       "      <td>/kaggle/input/deeplense-2/DeepLense/images/100...</td>\n",
       "    </tr>\n",
       "    <tr>\n",
       "      <th>1</th>\n",
       "      <td>100001</td>\n",
       "      <td>1</td>\n",
       "      <td>1.317890e-10</td>\n",
       "      <td>294</td>\n",
       "      <td>855.589</td>\n",
       "      <td>/kaggle/input/deeplense-2/DeepLense/images/100...</td>\n",
       "    </tr>\n",
       "    <tr>\n",
       "      <th>2</th>\n",
       "      <td>100002</td>\n",
       "      <td>1</td>\n",
       "      <td>4.877250e-12</td>\n",
       "      <td>140</td>\n",
       "      <td>486.113</td>\n",
       "      <td>/kaggle/input/deeplense-2/DeepLense/images/100...</td>\n",
       "    </tr>\n",
       "    <tr>\n",
       "      <th>3</th>\n",
       "      <td>100003</td>\n",
       "      <td>1</td>\n",
       "      <td>1.440160e-09</td>\n",
       "      <td>1500</td>\n",
       "      <td>10467.400</td>\n",
       "      <td>/kaggle/input/deeplense-2/DeepLense/images/100...</td>\n",
       "    </tr>\n",
       "    <tr>\n",
       "      <th>4</th>\n",
       "      <td>100004</td>\n",
       "      <td>0</td>\n",
       "      <td>2.197350e-11</td>\n",
       "      <td>0</td>\n",
       "      <td>0.000</td>\n",
       "      <td>/kaggle/input/deeplense-2/DeepLense/images/100...</td>\n",
       "    </tr>\n",
       "  </tbody>\n",
       "</table>\n",
       "</div>"
      ],
      "text/plain": [
       "       ID  is_lens  Einstein_area  numb_pix_lensed_image  \\\n",
       "0  100000        1   8.633760e-10                    171   \n",
       "1  100001        1   1.317890e-10                    294   \n",
       "2  100002        1   4.877250e-12                    140   \n",
       "3  100003        1   1.440160e-09                   1500   \n",
       "4  100004        0   2.197350e-11                      0   \n",
       "\n",
       "   flux_lensed_image_in_sigma  \\\n",
       "0                     195.429   \n",
       "1                     855.589   \n",
       "2                     486.113   \n",
       "3                   10467.400   \n",
       "4                       0.000   \n",
       "\n",
       "                                          image_path  \n",
       "0  /kaggle/input/deeplense-2/DeepLense/images/100...  \n",
       "1  /kaggle/input/deeplense-2/DeepLense/images/100...  \n",
       "2  /kaggle/input/deeplense-2/DeepLense/images/100...  \n",
       "3  /kaggle/input/deeplense-2/DeepLense/images/100...  \n",
       "4  /kaggle/input/deeplense-2/DeepLense/images/100...  "
      ]
     },
     "execution_count": 15,
     "metadata": {},
     "output_type": "execute_result"
    }
   ],
   "source": [
    "classification_csv.head()"
   ]
  },
  {
   "cell_type": "code",
   "execution_count": 16,
   "id": "ac7a2621",
   "metadata": {
    "execution": {
     "iopub.execute_input": "2023-03-21T13:30:39.016147Z",
     "iopub.status.busy": "2023-03-21T13:30:39.015642Z",
     "iopub.status.idle": "2023-03-21T13:30:39.114485Z",
     "shell.execute_reply": "2023-03-21T13:30:39.112892Z"
    },
    "papermill": {
     "duration": 0.256134,
     "end_time": "2023-03-21T13:30:39.117659",
     "exception": false,
     "start_time": "2023-03-21T13:30:38.861525",
     "status": "completed"
    },
    "tags": []
   },
   "outputs": [],
   "source": [
    "classification_csv.to_csv('/kaggle/working/DeepLense/classifications.csv', index=False)"
   ]
  },
  {
   "cell_type": "code",
   "execution_count": 17,
   "id": "be4d45c1",
   "metadata": {
    "execution": {
     "iopub.execute_input": "2023-03-21T13:30:39.431260Z",
     "iopub.status.busy": "2023-03-21T13:30:39.430848Z",
     "iopub.status.idle": "2023-03-21T13:30:40.294626Z",
     "shell.execute_reply": "2023-03-21T13:30:40.292966Z"
    },
    "papermill": {
     "duration": 1.024327,
     "end_time": "2023-03-21T13:30:40.297727",
     "exception": false,
     "start_time": "2023-03-21T13:30:39.273400",
     "status": "completed"
    },
    "tags": []
   },
   "outputs": [],
   "source": [
    "shutil.rmtree('/kaggle/working/SpaceBasedTraining')"
   ]
  },
  {
   "cell_type": "code",
   "execution_count": null,
   "id": "29c53875",
   "metadata": {
    "papermill": {
     "duration": 0.163175,
     "end_time": "2023-03-21T13:30:40.628386",
     "exception": false,
     "start_time": "2023-03-21T13:30:40.465211",
     "status": "completed"
    },
    "tags": []
   },
   "outputs": [],
   "source": []
  }
 ],
 "metadata": {
  "kernelspec": {
   "display_name": "Python 3",
   "language": "python",
   "name": "python3"
  },
  "language_info": {
   "codemirror_mode": {
    "name": "ipython",
    "version": 3
   },
   "file_extension": ".py",
   "mimetype": "text/x-python",
   "name": "python",
   "nbconvert_exporter": "python",
   "pygments_lexer": "ipython3",
   "version": "3.7.12"
  },
  "papermill": {
   "default_parameters": {},
   "duration": 286.096865,
   "end_time": "2023-03-21T13:30:41.806770",
   "environment_variables": {},
   "exception": null,
   "input_path": "__notebook__.ipynb",
   "output_path": "__notebook__.ipynb",
   "parameters": {},
   "start_time": "2023-03-21T13:25:55.709905",
   "version": "2.4.0"
  }
 },
 "nbformat": 4,
 "nbformat_minor": 5
}
