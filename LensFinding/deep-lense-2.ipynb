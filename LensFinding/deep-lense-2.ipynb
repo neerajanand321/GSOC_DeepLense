{
 "cells": [
  {
   "cell_type": "markdown",
   "id": "54c0773b",
   "metadata": {
    "papermill": {
     "duration": 0.005996,
     "end_time": "2023-03-21T13:14:32.342481",
     "exception": false,
     "start_time": "2023-03-21T13:14:32.336485",
     "status": "completed"
    },
    "tags": []
   },
   "source": [
    "# ML4SCI Task\n",
    "\n",
    "This notebook demonstrates the model trained on data provided for **Specific Task 2: Lens Finding**\n",
    "\n",
    "## WorkFlow\n",
    "- Load the data created in the notebook `DeepLense_EDA`\n",
    "- Define `Dataset` class \n",
    "- Define `pretrained Model` class which uses **Transfer Learning** \n",
    "- Define `train_utils` class having loss, optimizer, scheduler, score function\n",
    "- Define `Train` class having function for training, validation and training_loop\n",
    "- `CFG` class is used to set the hyperparamters "
   ]
  },
  {
   "cell_type": "code",
   "execution_count": 1,
   "id": "d2d035f4",
   "metadata": {
    "execution": {
     "iopub.execute_input": "2023-03-21T13:14:32.354138Z",
     "iopub.status.busy": "2023-03-21T13:14:32.353694Z",
     "iopub.status.idle": "2023-03-21T13:14:38.521263Z",
     "shell.execute_reply": "2023-03-21T13:14:38.520028Z"
    },
    "papermill": {
     "duration": 6.176548,
     "end_time": "2023-03-21T13:14:38.524015",
     "exception": false,
     "start_time": "2023-03-21T13:14:32.347467",
     "status": "completed"
    },
    "tags": []
   },
   "outputs": [],
   "source": [
    "# Importing necesaary library\n",
    "import os\n",
    "import numpy as np\n",
    "import pandas as pd\n",
    "import h5py\n",
    "import timm\n",
    "import matplotlib.pyplot as plt\n",
    "import seaborn\n",
    "import time\n",
    "import cv2\n",
    "\n",
    "import torch\n",
    "import torchaudio\n",
    "import torch.nn as nn\n",
    "import torch.nn.functional as F\n",
    "from torch.utils.data import DataLoader\n",
    "from torch.optim.lr_scheduler import StepLR\n",
    "\n",
    "\n",
    "import albumentations as A\n",
    "from albumentations.pytorch import ToTensorV2\n",
    "from albumentations import ImageOnlyTransform\n",
    "\n",
    "from tqdm import tqdm\n",
    "\n",
    "import warnings\n",
    "warnings.filterwarnings('ignore')\n",
    "\n",
    "from sklearn.model_selection import KFold\n",
    "from sklearn.model_selection import StratifiedKFold\n",
    "from sklearn.metrics import roc_auc_score\n",
    "from sklearn.preprocessing import StandardScaler\n",
    "from timm.scheduler import CosineLRScheduler\n",
    "\n",
    "\n",
    "device = torch.device(\"cuda\" if torch.cuda.is_available() else \"cpu\")\n",
    "\n",
    "%matplotlib inline"
   ]
  },
  {
   "cell_type": "code",
   "execution_count": 2,
   "id": "8b1faab1",
   "metadata": {
    "execution": {
     "iopub.execute_input": "2023-03-21T13:14:38.536867Z",
     "iopub.status.busy": "2023-03-21T13:14:38.536547Z",
     "iopub.status.idle": "2023-03-21T13:14:38.616211Z",
     "shell.execute_reply": "2023-03-21T13:14:38.615017Z"
    },
    "papermill": {
     "duration": 0.088987,
     "end_time": "2023-03-21T13:14:38.618704",
     "exception": false,
     "start_time": "2023-03-21T13:14:38.529717",
     "status": "completed"
    },
    "tags": []
   },
   "outputs": [
    {
     "data": {
      "text/html": [
       "<div>\n",
       "<style scoped>\n",
       "    .dataframe tbody tr th:only-of-type {\n",
       "        vertical-align: middle;\n",
       "    }\n",
       "\n",
       "    .dataframe tbody tr th {\n",
       "        vertical-align: top;\n",
       "    }\n",
       "\n",
       "    .dataframe thead th {\n",
       "        text-align: right;\n",
       "    }\n",
       "</style>\n",
       "<table border=\"1\" class=\"dataframe\">\n",
       "  <thead>\n",
       "    <tr style=\"text-align: right;\">\n",
       "      <th></th>\n",
       "      <th>ID</th>\n",
       "      <th>is_lens</th>\n",
       "      <th>Einstein_area</th>\n",
       "      <th>numb_pix_lensed_image</th>\n",
       "      <th>flux_lensed_image_in_sigma</th>\n",
       "      <th>image_path</th>\n",
       "    </tr>\n",
       "  </thead>\n",
       "  <tbody>\n",
       "    <tr>\n",
       "      <th>0</th>\n",
       "      <td>100000</td>\n",
       "      <td>1</td>\n",
       "      <td>8.633760e-10</td>\n",
       "      <td>171</td>\n",
       "      <td>195.429</td>\n",
       "      <td>/kaggle/input/deeplense-2/DeepLense/images/100...</td>\n",
       "    </tr>\n",
       "    <tr>\n",
       "      <th>1</th>\n",
       "      <td>100001</td>\n",
       "      <td>1</td>\n",
       "      <td>1.317890e-10</td>\n",
       "      <td>294</td>\n",
       "      <td>855.589</td>\n",
       "      <td>/kaggle/input/deeplense-2/DeepLense/images/100...</td>\n",
       "    </tr>\n",
       "    <tr>\n",
       "      <th>2</th>\n",
       "      <td>100002</td>\n",
       "      <td>1</td>\n",
       "      <td>4.877250e-12</td>\n",
       "      <td>140</td>\n",
       "      <td>486.113</td>\n",
       "      <td>/kaggle/input/deeplense-2/DeepLense/images/100...</td>\n",
       "    </tr>\n",
       "    <tr>\n",
       "      <th>3</th>\n",
       "      <td>100003</td>\n",
       "      <td>1</td>\n",
       "      <td>1.440160e-09</td>\n",
       "      <td>1500</td>\n",
       "      <td>10467.400</td>\n",
       "      <td>/kaggle/input/deeplense-2/DeepLense/images/100...</td>\n",
       "    </tr>\n",
       "    <tr>\n",
       "      <th>4</th>\n",
       "      <td>100004</td>\n",
       "      <td>0</td>\n",
       "      <td>2.197350e-11</td>\n",
       "      <td>0</td>\n",
       "      <td>0.000</td>\n",
       "      <td>/kaggle/input/deeplense-2/DeepLense/images/100...</td>\n",
       "    </tr>\n",
       "    <tr>\n",
       "      <th>5</th>\n",
       "      <td>100005</td>\n",
       "      <td>0</td>\n",
       "      <td>2.804930e-10</td>\n",
       "      <td>0</td>\n",
       "      <td>0.000</td>\n",
       "      <td>/kaggle/input/deeplense-2/DeepLense/images/100...</td>\n",
       "    </tr>\n",
       "    <tr>\n",
       "      <th>6</th>\n",
       "      <td>100006</td>\n",
       "      <td>0</td>\n",
       "      <td>2.261430e-10</td>\n",
       "      <td>0</td>\n",
       "      <td>0.000</td>\n",
       "      <td>/kaggle/input/deeplense-2/DeepLense/images/100...</td>\n",
       "    </tr>\n",
       "    <tr>\n",
       "      <th>7</th>\n",
       "      <td>100007</td>\n",
       "      <td>1</td>\n",
       "      <td>1.466810e-10</td>\n",
       "      <td>213</td>\n",
       "      <td>829.363</td>\n",
       "      <td>/kaggle/input/deeplense-2/DeepLense/images/100...</td>\n",
       "    </tr>\n",
       "    <tr>\n",
       "      <th>8</th>\n",
       "      <td>100008</td>\n",
       "      <td>1</td>\n",
       "      <td>5.512840e-11</td>\n",
       "      <td>812</td>\n",
       "      <td>9446.660</td>\n",
       "      <td>/kaggle/input/deeplense-2/DeepLense/images/100...</td>\n",
       "    </tr>\n",
       "    <tr>\n",
       "      <th>9</th>\n",
       "      <td>100009</td>\n",
       "      <td>0</td>\n",
       "      <td>1.608170e-09</td>\n",
       "      <td>0</td>\n",
       "      <td>0.000</td>\n",
       "      <td>/kaggle/input/deeplense-2/DeepLense/images/100...</td>\n",
       "    </tr>\n",
       "  </tbody>\n",
       "</table>\n",
       "</div>"
      ],
      "text/plain": [
       "       ID  is_lens  Einstein_area  numb_pix_lensed_image  \\\n",
       "0  100000        1   8.633760e-10                    171   \n",
       "1  100001        1   1.317890e-10                    294   \n",
       "2  100002        1   4.877250e-12                    140   \n",
       "3  100003        1   1.440160e-09                   1500   \n",
       "4  100004        0   2.197350e-11                      0   \n",
       "5  100005        0   2.804930e-10                      0   \n",
       "6  100006        0   2.261430e-10                      0   \n",
       "7  100007        1   1.466810e-10                    213   \n",
       "8  100008        1   5.512840e-11                    812   \n",
       "9  100009        0   1.608170e-09                      0   \n",
       "\n",
       "   flux_lensed_image_in_sigma  \\\n",
       "0                     195.429   \n",
       "1                     855.589   \n",
       "2                     486.113   \n",
       "3                   10467.400   \n",
       "4                       0.000   \n",
       "5                       0.000   \n",
       "6                       0.000   \n",
       "7                     829.363   \n",
       "8                    9446.660   \n",
       "9                       0.000   \n",
       "\n",
       "                                          image_path  \n",
       "0  /kaggle/input/deeplense-2/DeepLense/images/100...  \n",
       "1  /kaggle/input/deeplense-2/DeepLense/images/100...  \n",
       "2  /kaggle/input/deeplense-2/DeepLense/images/100...  \n",
       "3  /kaggle/input/deeplense-2/DeepLense/images/100...  \n",
       "4  /kaggle/input/deeplense-2/DeepLense/images/100...  \n",
       "5  /kaggle/input/deeplense-2/DeepLense/images/100...  \n",
       "6  /kaggle/input/deeplense-2/DeepLense/images/100...  \n",
       "7  /kaggle/input/deeplense-2/DeepLense/images/100...  \n",
       "8  /kaggle/input/deeplense-2/DeepLense/images/100...  \n",
       "9  /kaggle/input/deeplense-2/DeepLense/images/100...  "
      ]
     },
     "execution_count": 2,
     "metadata": {},
     "output_type": "execute_result"
    }
   ],
   "source": [
    "# Loading csv file\n",
    "data_df = pd.read_csv('/kaggle/input/deeplense-2/DeepLense/classifications.csv')\n",
    "data_df.head(10)"
   ]
  },
  {
   "cell_type": "code",
   "execution_count": 3,
   "id": "29917cad",
   "metadata": {
    "execution": {
     "iopub.execute_input": "2023-03-21T13:14:38.632354Z",
     "iopub.status.busy": "2023-03-21T13:14:38.632038Z",
     "iopub.status.idle": "2023-03-21T13:14:38.640057Z",
     "shell.execute_reply": "2023-03-21T13:14:38.638903Z"
    },
    "papermill": {
     "duration": 0.01744,
     "end_time": "2023-03-21T13:14:38.642284",
     "exception": false,
     "start_time": "2023-03-21T13:14:38.624844",
     "status": "completed"
    },
    "tags": []
   },
   "outputs": [
    {
     "data": {
      "text/plain": [
       "'/kaggle/input/deeplense-2/DeepLense/images/100000.npy'"
      ]
     },
     "execution_count": 3,
     "metadata": {},
     "output_type": "execute_result"
    }
   ],
   "source": [
    "# Checking if the path is correct or not\n",
    "data_df['image_path'][0]"
   ]
  },
  {
   "cell_type": "code",
   "execution_count": 4,
   "id": "285ccd7c",
   "metadata": {
    "execution": {
     "iopub.execute_input": "2023-03-21T13:14:38.654471Z",
     "iopub.status.busy": "2023-03-21T13:14:38.654169Z",
     "iopub.status.idle": "2023-03-21T13:14:38.664309Z",
     "shell.execute_reply": "2023-03-21T13:14:38.663157Z"
    },
    "papermill": {
     "duration": 0.019063,
     "end_time": "2023-03-21T13:14:38.666729",
     "exception": false,
     "start_time": "2023-03-21T13:14:38.647666",
     "status": "completed"
    },
    "tags": []
   },
   "outputs": [
    {
     "data": {
      "text/plain": [
       "5426"
      ]
     },
     "execution_count": 4,
     "metadata": {},
     "output_type": "execute_result"
    }
   ],
   "source": [
    "# Number of negative examples\n",
    "len(data_df[data_df['is_lens']==0])"
   ]
  },
  {
   "cell_type": "code",
   "execution_count": 5,
   "id": "75e6e26d",
   "metadata": {
    "execution": {
     "iopub.execute_input": "2023-03-21T13:14:38.678888Z",
     "iopub.status.busy": "2023-03-21T13:14:38.678615Z",
     "iopub.status.idle": "2023-03-21T13:14:38.684970Z",
     "shell.execute_reply": "2023-03-21T13:14:38.683995Z"
    },
    "papermill": {
     "duration": 0.014722,
     "end_time": "2023-03-21T13:14:38.687058",
     "exception": false,
     "start_time": "2023-03-21T13:14:38.672336",
     "status": "completed"
    },
    "tags": []
   },
   "outputs": [],
   "source": [
    "# Configuration class\n",
    "class CFG:\n",
    "    lr = 0.0001\n",
    "    batch_size = 64\n",
    "    num_classes = 1\n",
    "    size=[224, 224]\n",
    "    nfold = 10\n",
    "    custom_model=False\n",
    "    model_name = \"tf_efficientnet_b2_ns\"\n",
    "    target_col=\"is_lens\"\n",
    "    epochs = 5\n",
    "    seed = 42\n",
    "    transform = False\n",
    "    weight_decay = 1e-2\n",
    "    num_workers=2\n",
    "    train=True\n",
    "    debug=False\n",
    "    metric_type=\"roc_auc\"\n",
    "    scheduler_type = \"CosineLRScheduler\"\n",
    "    optimizer_type = \"Adam\"\n",
    "    loss_type = \"BCEWithLogitsLoss\"\n",
    "    is_cross_validate = True\n",
    "    max_grad_norm = 1000\n",
    "    lr_max = 4e-4\n",
    "    epochs_warmup = 1.0\n",
    "    pos_weight = 5\n",
    "    meta_count = 3"
   ]
  },
  {
   "cell_type": "markdown",
   "id": "bf21c81d",
   "metadata": {
    "papermill": {
     "duration": 0.005059,
     "end_time": "2023-03-21T13:14:38.697267",
     "exception": false,
     "start_time": "2023-03-21T13:14:38.692208",
     "status": "completed"
    },
    "tags": []
   },
   "source": [
    "Keeping `n_fold` = 10 so that data distribution between training and validation follows 90:10 ratio"
   ]
  },
  {
   "cell_type": "code",
   "execution_count": 6,
   "id": "5370a557",
   "metadata": {
    "execution": {
     "iopub.execute_input": "2023-03-21T13:14:38.709356Z",
     "iopub.status.busy": "2023-03-21T13:14:38.709088Z",
     "iopub.status.idle": "2023-03-21T13:14:38.714567Z",
     "shell.execute_reply": "2023-03-21T13:14:38.713611Z"
    },
    "papermill": {
     "duration": 0.01396,
     "end_time": "2023-03-21T13:14:38.716587",
     "exception": false,
     "start_time": "2023-03-21T13:14:38.702627",
     "status": "completed"
    },
    "tags": []
   },
   "outputs": [],
   "source": [
    "# If debug mode is true data is truncated to have only 100 images\n",
    "if CFG.debug:\n",
    "    data_df = data_df[:100]"
   ]
  },
  {
   "cell_type": "code",
   "execution_count": 7,
   "id": "0918575e",
   "metadata": {
    "execution": {
     "iopub.execute_input": "2023-03-21T13:14:38.729561Z",
     "iopub.status.busy": "2023-03-21T13:14:38.728712Z",
     "iopub.status.idle": "2023-03-21T13:14:38.736325Z",
     "shell.execute_reply": "2023-03-21T13:14:38.735396Z"
    },
    "papermill": {
     "duration": 0.016309,
     "end_time": "2023-03-21T13:14:38.738504",
     "exception": false,
     "start_time": "2023-03-21T13:14:38.722195",
     "status": "completed"
    },
    "tags": []
   },
   "outputs": [],
   "source": [
    "# Augmentation\n",
    "def get_transforms(*, data):\n",
    "    \n",
    "    if data == 'train':\n",
    "        return A.Compose([\n",
    "            A.Resize(*CFG.size),\n",
    "            A.Rotate(limit=20),\n",
    "#             A.RandomBrightness (limit=0.1, always_apply=False, p=0.5),\n",
    "#             A.RandomContrast (limit=(0.9, 1.1), always_apply=False, p=0.5),\n",
    "            A.ShiftScaleRotate(rotate_limit=15, scale_limit = [0.8, 1]),\n",
    "            A.HorizontalFlip(p=0.5),\n",
    "            A.VerticalFlip(p=0.5),\n",
    "            A.Normalize(\n",
    "                mean = 0,\n",
    "                std = 1,\n",
    "            ),\n",
    "            ToTensorV2(),\n",
    "        ])\n",
    "\n",
    "    elif data == 'valid':\n",
    "        return A.Compose([\n",
    "            A.Resize(*CFG.size),\n",
    "            A.Normalize(\n",
    "                mean = 0,\n",
    "                std = 1,\n",
    "            ),\n",
    "            ToTensorV2(),\n",
    "        ])"
   ]
  },
  {
   "cell_type": "code",
   "execution_count": 8,
   "id": "2d97c6ee",
   "metadata": {
    "execution": {
     "iopub.execute_input": "2023-03-21T13:14:38.752217Z",
     "iopub.status.busy": "2023-03-21T13:14:38.750558Z",
     "iopub.status.idle": "2023-03-21T13:14:38.760718Z",
     "shell.execute_reply": "2023-03-21T13:14:38.759771Z"
    },
    "papermill": {
     "duration": 0.01865,
     "end_time": "2023-03-21T13:14:38.762703",
     "exception": false,
     "start_time": "2023-03-21T13:14:38.744053",
     "status": "completed"
    },
    "tags": []
   },
   "outputs": [],
   "source": [
    "# PyTorch DataSet\n",
    "class Dataset(nn.Module):\n",
    "    def __init__(self, df, transform=None):\n",
    "        super().__init__()\n",
    "        self.df = df\n",
    "        self.transform = transform\n",
    "        self.metadata = self._prepare_meta()\n",
    "        \n",
    "    def _prepare_meta(self):\n",
    "        data = self.df.drop(['ID', 'is_lens', 'image_path'], axis=1)\n",
    "        # Scaling of MetaData\n",
    "        scaler = StandardScaler()\n",
    "        data = scaler.fit_transform(data)\n",
    "        return data\n",
    "    \n",
    "    def __len__(self):\n",
    "        return len(self.df)\n",
    "    \n",
    "    def __getitem__(self, idx):\n",
    "        image_path = self.df['image_path']\n",
    "        image = np.load(image_path.iloc[idx]).astype(np.float32)\n",
    "        label = self.df['is_lens'].iloc[idx].astype(np.float32)\n",
    "        \n",
    "        if self.transform is not None:\n",
    "            augmented = self.transform(image=image)\n",
    "            image = augmented['image'] \n",
    "        meta = self.metadata[idx]\n",
    "        return torch.tensor(image), meta, torch.tensor(label)"
   ]
  },
  {
   "cell_type": "code",
   "execution_count": 9,
   "id": "03491793",
   "metadata": {
    "execution": {
     "iopub.execute_input": "2023-03-21T13:14:38.775377Z",
     "iopub.status.busy": "2023-03-21T13:14:38.774509Z",
     "iopub.status.idle": "2023-03-21T13:14:38.902473Z",
     "shell.execute_reply": "2023-03-21T13:14:38.901220Z"
    },
    "papermill": {
     "duration": 0.136505,
     "end_time": "2023-03-21T13:14:38.904660",
     "exception": false,
     "start_time": "2023-03-21T13:14:38.768155",
     "status": "completed"
    },
    "tags": []
   },
   "outputs": [
    {
     "name": "stdout",
     "output_type": "stream",
     "text": [
      "image shape: torch.Size([1, 224, 224]) , label: tensor(1.)\n",
      "image shape: torch.Size([1, 224, 224]) , label: tensor(1.)\n"
     ]
    }
   ],
   "source": [
    "# Checking Dataset class\n",
    "data = Dataset(data_df, transform = get_transforms(data='train'))\n",
    "image_0, meta_0, label_0 = data[0]\n",
    "image_1, meta_1, label_1 = data[1]\n",
    "print('image shape:', image_0.shape, ', label:', label_0)\n",
    "print('image shape:', image_1.shape, ', label:', label_1)"
   ]
  },
  {
   "cell_type": "code",
   "execution_count": 10,
   "id": "97cfac81",
   "metadata": {
    "execution": {
     "iopub.execute_input": "2023-03-21T13:14:38.917410Z",
     "iopub.status.busy": "2023-03-21T13:14:38.916780Z",
     "iopub.status.idle": "2023-03-21T13:14:38.924419Z",
     "shell.execute_reply": "2023-03-21T13:14:38.923183Z"
    },
    "papermill": {
     "duration": 0.016566,
     "end_time": "2023-03-21T13:14:38.926759",
     "exception": false,
     "start_time": "2023-03-21T13:14:38.910193",
     "status": "completed"
    },
    "tags": []
   },
   "outputs": [
    {
     "data": {
      "text/plain": [
       "array([ 1.1200566 , -0.27495691, -0.15109305])"
      ]
     },
     "execution_count": 10,
     "metadata": {},
     "output_type": "execute_result"
    }
   ],
   "source": [
    "meta_0 "
   ]
  },
  {
   "cell_type": "code",
   "execution_count": 11,
   "id": "adfaaea8",
   "metadata": {
    "execution": {
     "iopub.execute_input": "2023-03-21T13:14:38.940095Z",
     "iopub.status.busy": "2023-03-21T13:14:38.939773Z",
     "iopub.status.idle": "2023-03-21T13:14:39.326184Z",
     "shell.execute_reply": "2023-03-21T13:14:39.325038Z"
    },
    "papermill": {
     "duration": 0.395646,
     "end_time": "2023-03-21T13:14:39.328569",
     "exception": false,
     "start_time": "2023-03-21T13:14:38.932923",
     "status": "completed"
    },
    "tags": []
   },
   "outputs": [
    {
     "data": {
      "text/plain": [
       "Text(0.5, 1.0, 'label = 1.0')"
      ]
     },
     "execution_count": 11,
     "metadata": {},
     "output_type": "execute_result"
    },
    {
     "data": {
      "image/png": "[encoded data removed]",
      "text/plain": [
       "<Figure size 640x480 with 2 Axes>"
      ]
     },
     "metadata": {},
     "output_type": "display_data"
    }
   ],
   "source": [
    "# Plotting few data\n",
    "plt.subplot(1,2,1)\n",
    "plt.imshow(image_0.permute(1, 2, 0))\n",
    "plt.title(\"label = {}\".format(label_0))\n",
    "plt.subplot(1, 2, 2)\n",
    "plt.imshow(image_1.permute(1, 2, 0))\n",
    "plt.title(\"label = {}\".format(label_1))"
   ]
  },
  {
   "cell_type": "code",
   "execution_count": 12,
   "id": "e6b52da0",
   "metadata": {
    "execution": {
     "iopub.execute_input": "2023-03-21T13:14:39.343793Z",
     "iopub.status.busy": "2023-03-21T13:14:39.343482Z",
     "iopub.status.idle": "2023-03-21T13:14:39.350086Z",
     "shell.execute_reply": "2023-03-21T13:14:39.349087Z"
    },
    "papermill": {
     "duration": 0.016553,
     "end_time": "2023-03-21T13:14:39.352108",
     "exception": false,
     "start_time": "2023-03-21T13:14:39.335555",
     "status": "completed"
    },
    "tags": []
   },
   "outputs": [],
   "source": [
    "# Utility class\n",
    "class AverageMeter:\n",
    "    \"\"\"\n",
    "    Computes and stores the average and current value\n",
    "    \"\"\"\n",
    "\n",
    "    def __init__(self):\n",
    "        self.val = 0\n",
    "        self.avg = 0\n",
    "        self.sum = 0\n",
    "        self.count = 0\n",
    "\n",
    "    def reset(self):\n",
    "        self.val = 0\n",
    "        self.avg = 0\n",
    "        self.sum = 0\n",
    "        self.count = 0\n",
    "\n",
    "    def update(self, val, n=1):\n",
    "        self.val = val\n",
    "        self.sum += val * n\n",
    "        self.count += n\n",
    "        self.avg = self.sum / self.count"
   ]
  },
  {
   "cell_type": "code",
   "execution_count": 13,
   "id": "abd9d5dc",
   "metadata": {
    "execution": {
     "iopub.execute_input": "2023-03-21T13:14:39.367569Z",
     "iopub.status.busy": "2023-03-21T13:14:39.366750Z",
     "iopub.status.idle": "2023-03-21T13:14:39.373938Z",
     "shell.execute_reply": "2023-03-21T13:14:39.373295Z"
    },
    "papermill": {
     "duration": 0.017274,
     "end_time": "2023-03-21T13:14:39.376018",
     "exception": false,
     "start_time": "2023-03-21T13:14:39.358744",
     "status": "completed"
    },
    "tags": []
   },
   "outputs": [],
   "source": [
    "# Custom CNN Model\n",
    "class ConvNeuralNet(nn.Module):\n",
    "    def __init__(self):\n",
    "        super().__init__()\n",
    "        self.conv1 = nn.Conv2d(1, 6, 5)\n",
    "        self.pool = nn.MaxPool2d(2, 2)\n",
    "        self.conv2 = nn.Conv2d(6, 16, 5)\n",
    "        self.fc1 = nn.Linear(44944, 120)\n",
    "        self.fc2 = nn.Linear(120, CFG.num_classes)\n",
    "\n",
    "    def forward(self, x):\n",
    "        x = self.pool(F.relu(self.conv1(x)))\n",
    "        x = self.pool(F.relu(self.conv2(x)))\n",
    "        x = torch.flatten(x, 1) # flatten all dimensions except batch\n",
    "        x = F.relu(self.fc1(x))\n",
    "        x = self.fc2(x)\n",
    "        return x"
   ]
  },
  {
   "cell_type": "code",
   "execution_count": 14,
   "id": "6b550245",
   "metadata": {
    "execution": {
     "iopub.execute_input": "2023-03-21T13:14:39.398672Z",
     "iopub.status.busy": "2023-03-21T13:14:39.396009Z",
     "iopub.status.idle": "2023-03-21T13:14:39.409983Z",
     "shell.execute_reply": "2023-03-21T13:14:39.408995Z"
    },
    "papermill": {
     "duration": 0.02941,
     "end_time": "2023-03-21T13:14:39.412170",
     "exception": false,
     "start_time": "2023-03-21T13:14:39.382760",
     "status": "completed"
    },
    "tags": []
   },
   "outputs": [],
   "source": [
    "# Pretrained model class\n",
    "class PretrainedModel(nn.Module):\n",
    "    def __init__(self, model_name=CFG.model_name, pretrained=False):\n",
    "        super().__init__()\n",
    "        self.model_name = model_name\n",
    "        self.pretrained = pretrained\n",
    "        self.model = timm.create_model(self.model_name, pretrained=self.pretrained, in_chans=1)\n",
    "        clsf = self.model.default_cfg['classifier']\n",
    "        n_features = self.model._modules[clsf].in_features\n",
    "        self.model._modules[clsf] = nn.Identity()\n",
    "        self.fc1 = nn.Linear(n_features, 1024)\n",
    "        # Layer for meta data\n",
    "        self.meta_model = nn.Sequential(nn.Linear(CFG.meta_count, 256),\n",
    "                                        nn.BatchNorm1d(256),\n",
    "                                        nn.Dropout(p=0.2),\n",
    "                                        nn.ReLU(),\n",
    "                                        )\n",
    "        self.dropout = nn.Dropout(0.2)\n",
    "        self.fc = nn.Linear(1024 + 256, CFG.num_classes)\n",
    "        \n",
    "    def forward(self, x, meta):\n",
    "        x = self.model(x)\n",
    "        x = self.fc1(x)\n",
    "        meta = self.meta_model(meta)\n",
    "        out = torch.cat((x, meta), dim=1)\n",
    "        out = self.dropout(out)\n",
    "        out = self.fc(out)\n",
    "        return out"
   ]
  },
  {
   "cell_type": "code",
   "execution_count": 15,
   "id": "b87aa59d",
   "metadata": {
    "execution": {
     "iopub.execute_input": "2023-03-21T13:14:39.429172Z",
     "iopub.status.busy": "2023-03-21T13:14:39.427494Z",
     "iopub.status.idle": "2023-03-21T13:14:39.439246Z",
     "shell.execute_reply": "2023-03-21T13:14:39.438302Z"
    },
    "papermill": {
     "duration": 0.021952,
     "end_time": "2023-03-21T13:14:39.441374",
     "exception": false,
     "start_time": "2023-03-21T13:14:39.419422",
     "status": "completed"
    },
    "tags": []
   },
   "outputs": [],
   "source": [
    "# Class containing loss, optimizer, scheduler and score method\n",
    "class train_utils():\n",
    "    def __init__(self, CFG):\n",
    "        super().__init__()\n",
    "        self.CFG = CFG\n",
    "    \n",
    "    # Defining the Loss Function\n",
    "    @property\n",
    "    def get_criterion(self):\n",
    "        if self.CFG.loss_type == \"CrossEntropyLoss\":\n",
    "            criterion = nn.CrossEntropyLoss()\n",
    "        elif self.CFG.loss_type == \"BCEWithLogitsLoss\":\n",
    "            pos_weight = torch.Tensor([CFG.pos_weight]).to(device)\n",
    "            criterion = nn.BCEWithLogitsLoss(pos_weight=pos_weight)\n",
    "        return criterion\n",
    "    \n",
    "    # Defining the Score Function\n",
    "    def get_score(self, y_true, y_pred):\n",
    "        if self.CFG.metric_type == \"accuracy_score\":\n",
    "            score =  accuracy_score(y_true, y_pred)\n",
    "        elif self.CFG.metric_type == \"roc_auc\":\n",
    "            score =  roc_auc_score(y_true, y_pred)\n",
    "        return score\n",
    "    \n",
    "    # Defining the Optimizer Function\n",
    "    def get_optimizer(self, model):\n",
    "        if self.CFG.optimizer_type == 'Adam':\n",
    "            optimizer = torch.optim.Adam(model.parameters(), lr=CFG.lr_max, weight_decay=CFG.weight_decay, amsgrad=False)\n",
    "        if self.CFG.optimizer_type == 'AdamW':\n",
    "            optimizer = torch.optim.AdamW(model.parameters(), lr=CFG.lr_max, weight_decay=CFG.weight_decay)\n",
    "        return optimizer\n",
    "    \n",
    "    # Defining the Scheduler Function\n",
    "    def get_scheduler(self, optimizer, warmup, nsteps):\n",
    "        if self.CFG.scheduler_type == \"StepLR\":\n",
    "            scheduler = StepLR(optimizer, step_size=2, gamma=0.1, verbose=True)\n",
    "        if self.CFG.scheduler_type == 'CosineLRScheduler':\n",
    "            scheduler = CosineLRScheduler(optimizer,\n",
    "                                          warmup_t=warmup, warmup_lr_init=0.0, warmup_prefix=True,\n",
    "                                          t_initial=(nsteps - warmup), lr_min=1e-6)\n",
    "        return scheduler"
   ]
  },
  {
   "cell_type": "code",
   "execution_count": 16,
   "id": "382e090e",
   "metadata": {
    "execution": {
     "iopub.execute_input": "2023-03-21T13:14:39.457764Z",
     "iopub.status.busy": "2023-03-21T13:14:39.457381Z",
     "iopub.status.idle": "2023-03-21T13:14:39.482485Z",
     "shell.execute_reply": "2023-03-21T13:14:39.481536Z"
    },
    "papermill": {
     "duration": 0.035958,
     "end_time": "2023-03-21T13:14:39.484732",
     "exception": false,
     "start_time": "2023-03-21T13:14:39.448774",
     "status": "completed"
    },
    "tags": []
   },
   "outputs": [],
   "source": [
    "class Train():\n",
    "    def __init__(self, CFG):\n",
    "        super().__init__()\n",
    "        self.CFG = CFG\n",
    "        \n",
    "    def train_fn(self, train_loader, model, criterion, optimizer, epoch, scheduler, device):\n",
    "        model.train() # switch to training mode\n",
    "        nbatch = len(train_loader)\n",
    "        running_loss = AverageMeter()\n",
    "        tb = time.time()\n",
    "\n",
    "        pbar = tqdm(train_loader, total=len(train_loader))\n",
    "        pbar.set_description(f\"[{epoch+1}/{CFG.epochs}] Train\")\n",
    "\n",
    "        for ibatch, (images, meta, labels) in enumerate(pbar):\n",
    "            images = images.to(device)\n",
    "            labels = labels.to(device)\n",
    "            meta = meta.to(device)\n",
    "            bs = images.size(0)\n",
    "            y_preds = model(images, meta.float())\n",
    "            loss = criterion(y_preds.view(-1), labels)\n",
    "            running_loss.update(loss.item(), bs)\n",
    "\n",
    "            loss.backward()\n",
    "            grad_norm = nn.utils.clip_grad_norm_(model.parameters(), self.CFG.max_grad_norm)\n",
    "            optimizer.step()\n",
    "            scheduler.step(epoch * nbatch + ibatch + 1)\n",
    "#             scheduler.step()\n",
    "            optimizer.zero_grad()\n",
    "\n",
    "        lr_now = optimizer.param_groups[0]['lr']\n",
    "        dt = (time.time()-tb)/60\n",
    "        train_dict = {'loss': running_loss.avg,\n",
    "                         'lr_now': lr_now,\n",
    "                         'time': dt}\n",
    "\n",
    "        return train_dict\n",
    "    \n",
    "    def valid_fn(self, valid_loader, model, criterion, device, train_obj, compute_score=True):\n",
    "    \n",
    "        tb = time.time() \n",
    "        model.eval() # switch to evaluation mode\n",
    "        preds = []\n",
    "        y_all = []\n",
    "        running_loss = AverageMeter()\n",
    "\n",
    "        pbar = tqdm(valid_loader, total=len(valid_loader))\n",
    "        pbar.set_description(\"Validation\")\n",
    "\n",
    "        for images, meta, labels in pbar:\n",
    "            images = images.to(device)\n",
    "            labels = labels.to(device)\n",
    "            meta = meta.to(device)\n",
    "            bs = images.size(0)\n",
    "            # compute loss\n",
    "            with torch.no_grad():\n",
    "                y_preds = model(images, meta.float())\n",
    "            loss = criterion(y_preds.view(-1), labels)\n",
    "            running_loss.update(loss.item(), bs)\n",
    "            # record accuracy\n",
    "            y_all.append(labels.cpu().detach().numpy())\n",
    "            preds.append(y_preds.sigmoid().to('cpu').numpy())\n",
    "            \n",
    "\n",
    "        del loss, images, labels, y_preds\n",
    "\n",
    "        y_ground = np.concatenate(y_all)\n",
    "        y_pred = np.concatenate(preds)\n",
    "        score = train_obj.get_score(y_ground, y_pred) if compute_score else None \n",
    "        val_loss = running_loss.avg\n",
    "\n",
    "        val_dict = {'loss': val_loss,\n",
    "                   'score': score,\n",
    "                   'y': y_ground,\n",
    "                   'y_pred': y_pred,\n",
    "                    'time': (time.time() - tb)/60\n",
    "                   }\n",
    "\n",
    "        return val_dict\n",
    "    \n",
    "    # Train loop\n",
    "    def train_loop(self, data):\n",
    "\n",
    "        if self.CFG.is_cross_validate:\n",
    "\n",
    "            kfold = StratifiedKFold(n_splits=self.CFG.nfold, random_state=42, shuffle=True)\n",
    "            for ifold, (idx_train, idx_test) in enumerate(kfold.split(data, data['is_lens'])):\n",
    "\n",
    "                print('Fold %d/%d' %(ifold, self.CFG.nfold))\n",
    "                torch.manual_seed(self.CFG.seed + ifold + 1)\n",
    "                # create dataset\n",
    "                train_dataset = Dataset(data.iloc[idx_train], transform=get_transforms(data='train'))\n",
    "                valid_dataset = Dataset(data.iloc[idx_test], transform=get_transforms(data='valid'))\n",
    "\n",
    "                # create dataloaider\n",
    "                train_loader = DataLoader(train_dataset, batch_size=self.CFG.batch_size, shuffle=True, \n",
    "                                          num_workers=self.CFG.num_workers, pin_memory=True, drop_last=True)\n",
    "                valid_loader = DataLoader(valid_dataset, batch_size=self.CFG.batch_size, shuffle=False, \n",
    "                                          num_workers=self.CFG.num_workers, pin_memory=True, drop_last=False)\n",
    "\n",
    "                # create model and transfer to device\n",
    "                if CFG.custom_model:\n",
    "                    model = ConvNeuralNet()\n",
    "                else:\n",
    "                    model = PretrainedModel(pretrained=True)\n",
    "                model.to(device)\n",
    "                \n",
    "                # Creating object of train_utils\n",
    "                train_obj = train_utils(self.CFG)\n",
    "                # select optimizer, scheduler and criterion\n",
    "                optimizer = train_obj.get_optimizer(model)\n",
    "                nbatch = len(train_loader)\n",
    "                warmup = self.CFG.epochs_warmup*nbatch\n",
    "                nsteps = self.CFG.epochs*nbatch\n",
    "                scheduler = train_obj.get_scheduler(optimizer, warmup, nsteps)\n",
    "                criterion = train_obj.get_criterion\n",
    "\n",
    "                time_val = 0.0\n",
    "                tb = time.time()\n",
    "                # start training\n",
    "                for epoch in range(self.CFG.epochs):\n",
    "                    # train\n",
    "                    train_dict = self.train_fn(train_loader, model, criterion, optimizer, epoch, scheduler, device)\n",
    "                    # validation\n",
    "                    val_dict = self.valid_fn(valid_loader, model, criterion, device, train_obj)\n",
    "\n",
    "                    time_val += val_dict['time']\n",
    "\n",
    "                    print('Epoch = %d train_loss = %.4f val_score = %.4f lr = %.2e time = %.2f min' % (epoch+1, train_dict['loss'], \n",
    "                                                                     val_dict['score'], train_dict['lr_now'], train_dict['time']))\n",
    "                dt = (time.time() - tb)/60\n",
    "                print('Training done %.2f min total, %.2f min val'% (dt, time_val))\n",
    "\n",
    "                output_file = 'model%d.pytorch'%ifold\n",
    "                torch.save(model.state_dict(), output_file)\n",
    "                print(output_file, 'written')\n",
    "                break"
   ]
  },
  {
   "cell_type": "code",
   "execution_count": 17,
   "id": "e20b5d3f",
   "metadata": {
    "execution": {
     "iopub.execute_input": "2023-03-21T13:14:39.500186Z",
     "iopub.status.busy": "2023-03-21T13:14:39.499344Z",
     "iopub.status.idle": "2023-03-21T13:14:39.504174Z",
     "shell.execute_reply": "2023-03-21T13:14:39.503297Z"
    },
    "papermill": {
     "duration": 0.014519,
     "end_time": "2023-03-21T13:14:39.506237",
     "exception": false,
     "start_time": "2023-03-21T13:14:39.491718",
     "status": "completed"
    },
    "tags": []
   },
   "outputs": [],
   "source": [
    "# main\n",
    "def main():\n",
    "    if CFG.train: \n",
    "        # train\n",
    "        train = Train(CFG)\n",
    "        train.train_loop(data_df)"
   ]
  },
  {
   "cell_type": "code",
   "execution_count": 18,
   "id": "2e3a7be6",
   "metadata": {
    "execution": {
     "iopub.execute_input": "2023-03-21T13:14:39.521491Z",
     "iopub.status.busy": "2023-03-21T13:14:39.520905Z",
     "iopub.status.idle": "2023-03-21T13:14:39.721156Z",
     "shell.execute_reply": "2023-03-21T13:14:39.720024Z"
    },
    "papermill": {
     "duration": 0.210485,
     "end_time": "2023-03-21T13:14:39.723413",
     "exception": false,
     "start_time": "2023-03-21T13:14:39.512928",
     "status": "completed"
    },
    "tags": []
   },
   "outputs": [
    {
     "data": {
      "text/plain": [
       "61"
      ]
     },
     "execution_count": 18,
     "metadata": {},
     "output_type": "execute_result"
    }
   ],
   "source": [
    "torch.cuda.empty_cache()\n",
    "import gc\n",
    "gc.collect()"
   ]
  },
  {
   "cell_type": "code",
   "execution_count": 19,
   "id": "569f75a9",
   "metadata": {
    "execution": {
     "iopub.execute_input": "2023-03-21T13:14:39.739773Z",
     "iopub.status.busy": "2023-03-21T13:14:39.738738Z",
     "iopub.status.idle": "2023-03-21T13:23:02.953407Z",
     "shell.execute_reply": "2023-03-21T13:23:02.952042Z"
    },
    "papermill": {
     "duration": 503.225704,
     "end_time": "2023-03-21T13:23:02.956226",
     "exception": false,
     "start_time": "2023-03-21T13:14:39.730522",
     "status": "completed"
    },
    "tags": []
   },
   "outputs": [
    {
     "name": "stdout",
     "output_type": "stream",
     "text": [
      "Fold 0/10\n"
     ]
    },
    {
     "name": "stderr",
     "output_type": "stream",
     "text": [
      "Downloading: \"https://github.com/rwightman/pytorch-image-models/releases/download/v0.1-weights/tf_efficientnet_b2_ns-00306e48.pth\" to /root/.cache/torch/hub/checkpoints/tf_efficientnet_b2_ns-00306e48.pth\n",
      "[1/5] Train: 100%|██████████| 253/253 [01:41<00:00,  2.50it/s]\n",
      "Validation: 100%|██████████| 29/29 [00:07<00:00,  3.74it/s]\n"
     ]
    },
    {
     "name": "stdout",
     "output_type": "stream",
     "text": [
      "Epoch = 1 train_loss = 1.0814 val_score = 0.9610 lr = 4.00e-04 time = 1.69 min\n"
     ]
    },
    {
     "name": "stderr",
     "output_type": "stream",
     "text": [
      "[2/5] Train: 100%|██████████| 253/253 [01:34<00:00,  2.68it/s]\n",
      "Validation: 100%|██████████| 29/29 [00:02<00:00, 10.37it/s]\n"
     ]
    },
    {
     "name": "stdout",
     "output_type": "stream",
     "text": [
      "Epoch = 2 train_loss = 0.7960 val_score = 0.9731 lr = 3.42e-04 time = 1.57 min\n"
     ]
    },
    {
     "name": "stderr",
     "output_type": "stream",
     "text": [
      "[3/5] Train: 100%|██████████| 253/253 [01:34<00:00,  2.67it/s]\n",
      "Validation: 100%|██████████| 29/29 [00:02<00:00, 10.60it/s]\n"
     ]
    },
    {
     "name": "stdout",
     "output_type": "stream",
     "text": [
      "Epoch = 3 train_loss = 0.7173 val_score = 0.9754 lr = 2.00e-04 time = 1.58 min\n"
     ]
    },
    {
     "name": "stderr",
     "output_type": "stream",
     "text": [
      "[4/5] Train: 100%|██████████| 253/253 [01:34<00:00,  2.68it/s]\n",
      "Validation: 100%|██████████| 29/29 [00:02<00:00, 10.56it/s]\n"
     ]
    },
    {
     "name": "stdout",
     "output_type": "stream",
     "text": [
      "Epoch = 4 train_loss = 0.6894 val_score = 0.9712 lr = 5.94e-05 time = 1.58 min\n"
     ]
    },
    {
     "name": "stderr",
     "output_type": "stream",
     "text": [
      "[5/5] Train: 100%|██████████| 253/253 [01:34<00:00,  2.68it/s]\n",
      "Validation: 100%|██████████| 29/29 [00:03<00:00,  9.17it/s]\n"
     ]
    },
    {
     "name": "stdout",
     "output_type": "stream",
     "text": [
      "Epoch = 5 train_loss = 0.6776 val_score = 0.9716 lr = 1.00e-06 time = 1.58 min\n",
      "Training done 8.31 min total, 0.32 min val\n",
      "model0.pytorch written\n"
     ]
    }
   ],
   "source": [
    "if __name__ == \"__main__\":\n",
    "    main()"
   ]
  },
  {
   "cell_type": "markdown",
   "id": "90355ca4",
   "metadata": {
    "papermill": {
     "duration": 0.078762,
     "end_time": "2023-03-21T13:23:03.112444",
     "exception": false,
     "start_time": "2023-03-21T13:23:03.033682",
     "status": "completed"
    },
    "tags": []
   },
   "source": [
    "# Future Work\n",
    "- Try various other data augmentation\n",
    "- Try Focal loss\n",
    "- Try transformer as backbone\n",
    "- Try self-supervised kind of training"
   ]
  },
  {
   "cell_type": "code",
   "execution_count": null,
   "id": "bf831b8c",
   "metadata": {
    "papermill": {
     "duration": 0.078911,
     "end_time": "2023-03-21T13:23:03.269148",
     "exception": false,
     "start_time": "2023-03-21T13:23:03.190237",
     "status": "completed"
    },
    "tags": []
   },
   "outputs": [],
   "source": []
  }
 ],
 "metadata": {
  "kernelspec": {
   "display_name": "Python 3",
   "language": "python",
   "name": "python3"
  },
  "language_info": {
   "codemirror_mode": {
    "name": "ipython",
    "version": 3
   },
   "file_extension": ".py",
   "mimetype": "text/x-python",
   "name": "python",
   "nbconvert_exporter": "python",
   "pygments_lexer": "ipython3",
   "version": "3.7.12"
  },
  "papermill": {
   "default_parameters": {},
   "duration": 523.098469,
   "end_time": "2023-03-21T13:23:06.112775",
   "environment_variables": {},
   "exception": null,
   "input_path": "__notebook__.ipynb",
   "output_path": "__notebook__.ipynb",
   "parameters": {},
   "start_time": "2023-03-21T13:14:23.014306",
   "version": "2.4.0"
  }
 },
 "nbformat": 4,
 "nbformat_minor": 5
}
