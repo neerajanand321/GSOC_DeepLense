{
 "cells": [
  {
   "cell_type": "markdown",
   "id": "2a164c02",
   "metadata": {
    "execution": {
     "iopub.execute_input": "2023-03-16T08:29:01.694137Z",
     "iopub.status.busy": "2023-03-16T08:29:01.693720Z",
     "iopub.status.idle": "2023-03-16T08:29:01.702713Z",
     "shell.execute_reply": "2023-03-16T08:29:01.701619Z",
     "shell.execute_reply.started": "2023-03-16T08:29:01.694099Z"
    },
    "papermill": {
     "duration": 0.006856,
     "end_time": "2023-03-16T17:55:19.142443",
     "exception": false,
     "start_time": "2023-03-16T17:55:19.135587",
     "status": "completed"
    },
    "tags": []
   },
   "source": [
    "# ML4SCI Task\n",
    "\n",
    "This notebook demonstrates the model trained on the data provided for common task\n",
    "\n",
    "\n",
    "### WorkFlow\n",
    "- Load the data and create dataframe for train data and validation data as `train_df` and `val_df` \n",
    "- Create PyTorch Dataset\n",
    "- Define two model `ConvNeuralNetwork` and `PretrainedModel`\n",
    "- Define `train_utils` class having function for Loss, Optimizer, Scheduler and Score\n",
    "- Define `Train` class having function for train, validation and train_loop \n",
    "- Training of Model"
   ]
  },
  {
   "cell_type": "code",
   "execution_count": 1,
   "id": "d617200f",
   "metadata": {
    "execution": {
     "iopub.execute_input": "2023-03-16T17:55:19.156954Z",
     "iopub.status.busy": "2023-03-16T17:55:19.156441Z",
     "iopub.status.idle": "2023-03-16T17:55:24.024751Z",
     "shell.execute_reply": "2023-03-16T17:55:24.023668Z"
    },
    "papermill": {
     "duration": 4.878662,
     "end_time": "2023-03-16T17:55:24.027449",
     "exception": false,
     "start_time": "2023-03-16T17:55:19.148787",
     "status": "completed"
    },
    "tags": []
   },
   "outputs": [],
   "source": [
    "# importing necessary library\n",
    "import numpy as np\n",
    "import pandas as pd\n",
    "import shutil\n",
    "import matplotlib.pyplot as plt\n",
    "import glob\n",
    "import os\n",
    "from tqdm import tqdm\n",
    "import timm\n",
    "\n",
    "# importing torch_libraries\n",
    "import torch\n",
    "from torch.utils.data import Dataset, DataLoader\n",
    "import torch.nn as nn\n",
    "import torch.nn.functional as F\n",
    "from torch.optim import Adam, SGD\n",
    "from torch.optim.lr_scheduler import StepLR\n",
    "from torchvision import transforms\n",
    "\n",
    "import albumentations as A\n",
    "from albumentations.pytorch import ToTensorV2\n",
    "\n",
    "from sklearn.metrics import accuracy_score, roc_auc_score\n",
    "\n",
    "import warnings\n",
    "warnings.filterwarnings('ignore')"
   ]
  },
  {
   "cell_type": "code",
   "execution_count": 2,
   "id": "89c01e38",
   "metadata": {
    "execution": {
     "iopub.execute_input": "2023-03-16T17:55:24.040695Z",
     "iopub.status.busy": "2023-03-16T17:55:24.040397Z",
     "iopub.status.idle": "2023-03-16T17:55:24.046698Z",
     "shell.execute_reply": "2023-03-16T17:55:24.045756Z"
    },
    "papermill": {
     "duration": 0.015479,
     "end_time": "2023-03-16T17:55:24.048854",
     "exception": false,
     "start_time": "2023-03-16T17:55:24.033375",
     "status": "completed"
    },
    "tags": []
   },
   "outputs": [],
   "source": [
    "# Configuration class\n",
    "class CFG:\n",
    "    lr = 0.0001\n",
    "    batch_size = 64\n",
    "    num_classes = 3\n",
    "    target_col=\"target\"\n",
    "    epochs = 5\n",
    "    seed = 42\n",
    "    num_workers = 2\n",
    "    transform = False\n",
    "    weight_decay = 1e-2\n",
    "    num_workers=2\n",
    "    train=True\n",
    "    debug=False\n",
    "    metric_type=\"roc_auc\"\n",
    "    scheduler_type = \"StepLR\"\n",
    "    optimizer_type = \"Adam\"\n",
    "    loss_type = \"CrossEntropyLoss\"\n",
    "    max_grad_norm = 1000\n",
    "    lr_max = 4e-4\n",
    "    epochs_warmup = 1.0\n",
    "    model_name = \"resnet18\""
   ]
  },
  {
   "cell_type": "code",
   "execution_count": 3,
   "id": "1e0f359f",
   "metadata": {
    "execution": {
     "iopub.execute_input": "2023-03-16T17:55:24.061065Z",
     "iopub.status.busy": "2023-03-16T17:55:24.060794Z",
     "iopub.status.idle": "2023-03-16T17:55:24.115818Z",
     "shell.execute_reply": "2023-03-16T17:55:24.114672Z"
    },
    "papermill": {
     "duration": 0.063643,
     "end_time": "2023-03-16T17:55:24.117995",
     "exception": false,
     "start_time": "2023-03-16T17:55:24.054352",
     "status": "completed"
    },
    "tags": []
   },
   "outputs": [],
   "source": [
    "device = torch.device(\"cuda\" if torch.cuda.is_available() else \"cpu\")"
   ]
  },
  {
   "cell_type": "code",
   "execution_count": 4,
   "id": "1bc0cb94",
   "metadata": {
    "execution": {
     "iopub.execute_input": "2023-03-16T17:55:24.130586Z",
     "iopub.status.busy": "2023-03-16T17:55:24.130301Z",
     "iopub.status.idle": "2023-03-16T17:55:24.171748Z",
     "shell.execute_reply": "2023-03-16T17:55:24.170762Z"
    },
    "papermill": {
     "duration": 0.050079,
     "end_time": "2023-03-16T17:55:24.173899",
     "exception": false,
     "start_time": "2023-03-16T17:55:24.123820",
     "status": "completed"
    },
    "tags": []
   },
   "outputs": [
    {
     "data": {
      "text/plain": [
       "array([[[0.01233046, 0.01479655, 0.01849568, ..., 0.00986436,\n",
       "         0.00616523, 0.01479655],\n",
       "        [0.01726264, 0.0135635 , 0.01109741, ..., 0.01109741,\n",
       "         0.01602959, 0.00863132],\n",
       "        [0.01479655, 0.01726264, 0.01109741, ..., 0.00616523,\n",
       "         0.01726264, 0.01109741],\n",
       "        ...,\n",
       "        [0.01109741, 0.00986436, 0.0135635 , ..., 0.01479655,\n",
       "         0.01109741, 0.01972873],\n",
       "        [0.01726264, 0.01233046, 0.01479655, ..., 0.00739827,\n",
       "         0.00739827, 0.01972873],\n",
       "        [0.00739827, 0.00986436, 0.01109741, ..., 0.00616523,\n",
       "         0.01109741, 0.0135635 ]]])"
      ]
     },
     "execution_count": 4,
     "metadata": {},
     "output_type": "execute_result"
    }
   ],
   "source": [
    "# Loading of one data of each type for visulization\n",
    "data_1 = np.load('/kaggle/input/deeplense/dataset/train/no/10.npy')\n",
    "data_2 = np.load('/kaggle/input/deeplense/dataset/train/sphere/1.npy')\n",
    "data_3 = np.load('/kaggle/input/deeplense/dataset/train/vort/1.npy')\n",
    "\n",
    "\n",
    "data_1"
   ]
  },
  {
   "cell_type": "code",
   "execution_count": 5,
   "id": "ab5300f8",
   "metadata": {
    "execution": {
     "iopub.execute_input": "2023-03-16T17:55:24.187443Z",
     "iopub.status.busy": "2023-03-16T17:55:24.187170Z",
     "iopub.status.idle": "2023-03-16T17:55:24.192897Z",
     "shell.execute_reply": "2023-03-16T17:55:24.191937Z"
    },
    "papermill": {
     "duration": 0.014894,
     "end_time": "2023-03-16T17:55:24.194935",
     "exception": false,
     "start_time": "2023-03-16T17:55:24.180041",
     "status": "completed"
    },
    "tags": []
   },
   "outputs": [
    {
     "data": {
      "text/plain": [
       "(1, 150, 150)"
      ]
     },
     "execution_count": 5,
     "metadata": {},
     "output_type": "execute_result"
    }
   ],
   "source": [
    "data_1.shape"
   ]
  },
  {
   "cell_type": "code",
   "execution_count": 6,
   "id": "b78d744e",
   "metadata": {
    "execution": {
     "iopub.execute_input": "2023-03-16T17:55:24.208024Z",
     "iopub.status.busy": "2023-03-16T17:55:24.207393Z",
     "iopub.status.idle": "2023-03-16T17:55:24.565757Z",
     "shell.execute_reply": "2023-03-16T17:55:24.564729Z"
    },
    "papermill": {
     "duration": 0.36766,
     "end_time": "2023-03-16T17:55:24.568342",
     "exception": false,
     "start_time": "2023-03-16T17:55:24.200682",
     "status": "completed"
    },
    "tags": []
   },
   "outputs": [
    {
     "data": {
      "text/plain": [
       "<matplotlib.image.AxesImage at 0x7f30f16a1990>"
      ]
     },
     "execution_count": 6,
     "metadata": {},
     "output_type": "execute_result"
    },
    {
     "data": {
      "image/png": "[encoded data removed]",
      "text/plain": [
       "<Figure size 640x480 with 3 Axes>"
      ]
     },
     "metadata": {},
     "output_type": "display_data"
    }
   ],
   "source": [
    "# Plotting the images\n",
    "data_1 = np.squeeze(data_1)\n",
    "data_2 = np.squeeze(data_2)\n",
    "data_3 = np.squeeze(data_3)\n",
    "plt.subplot(1, 3, 1)\n",
    "plt.imshow(data_1, cmap=\"gray\")\n",
    "plt.title(\"No\")\n",
    "plt.subplot(1, 3, 2)\n",
    "plt.imshow(data_2, cmap=\"gray\")\n",
    "plt.title(\"Sphere\")\n",
    "plt.subplot(1, 3, 3)\n",
    "plt.title(\"Vort\")\n",
    "plt.imshow(data_3, cmap=\"gray\")"
   ]
  },
  {
   "cell_type": "code",
   "execution_count": 7,
   "id": "578fc65c",
   "metadata": {
    "execution": {
     "iopub.execute_input": "2023-03-16T17:55:24.583196Z",
     "iopub.status.busy": "2023-03-16T17:55:24.582903Z",
     "iopub.status.idle": "2023-03-16T17:55:24.587200Z",
     "shell.execute_reply": "2023-03-16T17:55:24.586209Z"
    },
    "papermill": {
     "duration": 0.014085,
     "end_time": "2023-03-16T17:55:24.589330",
     "exception": false,
     "start_time": "2023-03-16T17:55:24.575245",
     "status": "completed"
    },
    "tags": []
   },
   "outputs": [],
   "source": [
    "root_dir = '/kaggle/input/deeplense/dataset'\n",
    "dir_train = root_dir+'/train'\n",
    "dir_val = root_dir+'/val'"
   ]
  },
  {
   "cell_type": "code",
   "execution_count": 8,
   "id": "a6044c22",
   "metadata": {
    "execution": {
     "iopub.execute_input": "2023-03-16T17:55:24.604017Z",
     "iopub.status.busy": "2023-03-16T17:55:24.603405Z",
     "iopub.status.idle": "2023-03-16T17:55:26.451651Z",
     "shell.execute_reply": "2023-03-16T17:55:26.450592Z"
    },
    "papermill": {
     "duration": 1.858499,
     "end_time": "2023-03-16T17:55:26.454365",
     "exception": false,
     "start_time": "2023-03-16T17:55:24.595866",
     "status": "completed"
    },
    "tags": []
   },
   "outputs": [],
   "source": [
    "# Defining the path \n",
    "path_no_train = os.listdir('/kaggle/input/deeplense/dataset/train/no')\n",
    "path_sphere_train = os.listdir('/kaggle/input/deeplense/dataset/train/sphere')\n",
    "path_vort_train = os.listdir('/kaggle/input/deeplense/dataset/train/vort')\n",
    "\n",
    "path_no_val = os.listdir('/kaggle/input/deeplense/dataset/val/no')\n",
    "path_sphere_val = os.listdir('/kaggle/input/deeplense/dataset/val/sphere')\n",
    "path_vort_val = os.listdir('/kaggle/input/deeplense/dataset/val/vort')"
   ]
  },
  {
   "cell_type": "code",
   "execution_count": 9,
   "id": "a0c79d2a",
   "metadata": {
    "execution": {
     "iopub.execute_input": "2023-03-16T17:55:26.469436Z",
     "iopub.status.busy": "2023-03-16T17:55:26.469134Z",
     "iopub.status.idle": "2023-03-16T17:55:26.474824Z",
     "shell.execute_reply": "2023-03-16T17:55:26.473782Z"
    },
    "papermill": {
     "duration": 0.016356,
     "end_time": "2023-03-16T17:55:26.477773",
     "exception": false,
     "start_time": "2023-03-16T17:55:26.461417",
     "status": "completed"
    },
    "tags": []
   },
   "outputs": [
    {
     "name": "stdout",
     "output_type": "stream",
     "text": [
      "length of no = 10000\n",
      "length of sphere = 10000\n",
      "length of vort = 10000\n"
     ]
    }
   ],
   "source": [
    "print('length of no =', len(path_no_train))\n",
    "print('length of sphere =', len(path_sphere_train))\n",
    "print('length of vort =', len(path_vort_train))"
   ]
  },
  {
   "cell_type": "markdown",
   "id": "fcaaf5d2",
   "metadata": {
    "papermill": {
     "duration": 0.006391,
     "end_time": "2023-03-16T17:55:26.490697",
     "exception": false,
     "start_time": "2023-03-16T17:55:26.484306",
     "status": "completed"
    },
    "tags": []
   },
   "source": [
    "The data is perfectly balanced"
   ]
  },
  {
   "cell_type": "code",
   "execution_count": 10,
   "id": "9fde552b",
   "metadata": {
    "execution": {
     "iopub.execute_input": "2023-03-16T17:55:26.506411Z",
     "iopub.status.busy": "2023-03-16T17:55:26.505512Z",
     "iopub.status.idle": "2023-03-16T17:55:26.514313Z",
     "shell.execute_reply": "2023-03-16T17:55:26.513431Z"
    },
    "papermill": {
     "duration": 0.019106,
     "end_time": "2023-03-16T17:55:26.516397",
     "exception": false,
     "start_time": "2023-03-16T17:55:26.497291",
     "status": "completed"
    },
    "tags": []
   },
   "outputs": [],
   "source": [
    "# Helper Function to create dataframe for train and validation\n",
    "def data_helper(dir, d_type='train'):\n",
    "    df = pd.DataFrame()\n",
    "    target = []\n",
    "    data_path = []\n",
    "\n",
    "    if d_type=='train':\n",
    "        path_1 = path_no_train\n",
    "        path_2 = path_sphere_train\n",
    "        path_3 = path_vort_train\n",
    "    else:\n",
    "        path_1 = path_no_val\n",
    "        path_2 = path_sphere_val\n",
    "        path_3 = path_vort_val\n",
    "\n",
    "    for i in range(len(path_1)):\n",
    "        target.append(0)\n",
    "        data_path.append(dir+'/no/'+path_1[i])\n",
    "    for i in range(len(path_2)):\n",
    "        target.append(1)\n",
    "        data_path.append(dir+'/sphere/'+path_2[i])\n",
    "    for i in range(len(path_3)):\n",
    "        target.append(2)\n",
    "        data_path.append(dir+'/vort/'+path_3[i])\n",
    "\n",
    "    df['target'] = target\n",
    "    df['data_path'] = data_path\n",
    "    df = df.sample(frac=1)\n",
    "    return df"
   ]
  },
  {
   "cell_type": "code",
   "execution_count": 11,
   "id": "8f03ee1c",
   "metadata": {
    "execution": {
     "iopub.execute_input": "2023-03-16T17:55:26.531193Z",
     "iopub.status.busy": "2023-03-16T17:55:26.530395Z",
     "iopub.status.idle": "2023-03-16T17:55:26.583030Z",
     "shell.execute_reply": "2023-03-16T17:55:26.582066Z"
    },
    "papermill": {
     "duration": 0.0623,
     "end_time": "2023-03-16T17:55:26.585292",
     "exception": false,
     "start_time": "2023-03-16T17:55:26.522992",
     "status": "completed"
    },
    "tags": []
   },
   "outputs": [],
   "source": [
    "# Trainig and Validation DataFrame\n",
    "train_df = data_helper(dir_train)\n",
    "val_df = data_helper(dir_val, 'val')"
   ]
  },
  {
   "cell_type": "code",
   "execution_count": 12,
   "id": "8f89f63e",
   "metadata": {
    "execution": {
     "iopub.execute_input": "2023-03-16T17:55:26.600450Z",
     "iopub.status.busy": "2023-03-16T17:55:26.599728Z",
     "iopub.status.idle": "2023-03-16T17:55:26.611322Z",
     "shell.execute_reply": "2023-03-16T17:55:26.610240Z"
    },
    "papermill": {
     "duration": 0.021732,
     "end_time": "2023-03-16T17:55:26.613763",
     "exception": false,
     "start_time": "2023-03-16T17:55:26.592031",
     "status": "completed"
    },
    "tags": []
   },
   "outputs": [
    {
     "data": {
      "text/html": [
       "<div>\n",
       "<style scoped>\n",
       "    .dataframe tbody tr th:only-of-type {\n",
       "        vertical-align: middle;\n",
       "    }\n",
       "\n",
       "    .dataframe tbody tr th {\n",
       "        vertical-align: top;\n",
       "    }\n",
       "\n",
       "    .dataframe thead th {\n",
       "        text-align: right;\n",
       "    }\n",
       "</style>\n",
       "<table border=\"1\" class=\"dataframe\">\n",
       "  <thead>\n",
       "    <tr style=\"text-align: right;\">\n",
       "      <th></th>\n",
       "      <th>target</th>\n",
       "      <th>data_path</th>\n",
       "    </tr>\n",
       "  </thead>\n",
       "  <tbody>\n",
       "    <tr>\n",
       "      <th>8372</th>\n",
       "      <td>0</td>\n",
       "      <td>/kaggle/input/deeplense/dataset/train/no/5660.npy</td>\n",
       "    </tr>\n",
       "    <tr>\n",
       "      <th>23277</th>\n",
       "      <td>2</td>\n",
       "      <td>/kaggle/input/deeplense/dataset/train/vort/496...</td>\n",
       "    </tr>\n",
       "    <tr>\n",
       "      <th>26818</th>\n",
       "      <td>2</td>\n",
       "      <td>/kaggle/input/deeplense/dataset/train/vort/693...</td>\n",
       "    </tr>\n",
       "    <tr>\n",
       "      <th>8556</th>\n",
       "      <td>0</td>\n",
       "      <td>/kaggle/input/deeplense/dataset/train/no/5729.npy</td>\n",
       "    </tr>\n",
       "    <tr>\n",
       "      <th>22349</th>\n",
       "      <td>2</td>\n",
       "      <td>/kaggle/input/deeplense/dataset/train/vort/427...</td>\n",
       "    </tr>\n",
       "  </tbody>\n",
       "</table>\n",
       "</div>"
      ],
      "text/plain": [
       "       target                                          data_path\n",
       "8372        0  /kaggle/input/deeplense/dataset/train/no/5660.npy\n",
       "23277       2  /kaggle/input/deeplense/dataset/train/vort/496...\n",
       "26818       2  /kaggle/input/deeplense/dataset/train/vort/693...\n",
       "8556        0  /kaggle/input/deeplense/dataset/train/no/5729.npy\n",
       "22349       2  /kaggle/input/deeplense/dataset/train/vort/427..."
      ]
     },
     "execution_count": 12,
     "metadata": {},
     "output_type": "execute_result"
    }
   ],
   "source": [
    "train_df.head()"
   ]
  },
  {
   "cell_type": "code",
   "execution_count": 13,
   "id": "321208bf",
   "metadata": {
    "execution": {
     "iopub.execute_input": "2023-03-16T17:55:26.629019Z",
     "iopub.status.busy": "2023-03-16T17:55:26.628121Z",
     "iopub.status.idle": "2023-03-16T17:55:26.636965Z",
     "shell.execute_reply": "2023-03-16T17:55:26.635956Z"
    },
    "papermill": {
     "duration": 0.018505,
     "end_time": "2023-03-16T17:55:26.639006",
     "exception": false,
     "start_time": "2023-03-16T17:55:26.620501",
     "status": "completed"
    },
    "tags": []
   },
   "outputs": [
    {
     "data": {
      "text/html": [
       "<div>\n",
       "<style scoped>\n",
       "    .dataframe tbody tr th:only-of-type {\n",
       "        vertical-align: middle;\n",
       "    }\n",
       "\n",
       "    .dataframe tbody tr th {\n",
       "        vertical-align: top;\n",
       "    }\n",
       "\n",
       "    .dataframe thead th {\n",
       "        text-align: right;\n",
       "    }\n",
       "</style>\n",
       "<table border=\"1\" class=\"dataframe\">\n",
       "  <thead>\n",
       "    <tr style=\"text-align: right;\">\n",
       "      <th></th>\n",
       "      <th>target</th>\n",
       "      <th>data_path</th>\n",
       "    </tr>\n",
       "  </thead>\n",
       "  <tbody>\n",
       "    <tr>\n",
       "      <th>4959</th>\n",
       "      <td>1</td>\n",
       "      <td>/kaggle/input/deeplense/dataset/val/sphere/212...</td>\n",
       "    </tr>\n",
       "    <tr>\n",
       "      <th>7231</th>\n",
       "      <td>2</td>\n",
       "      <td>/kaggle/input/deeplense/dataset/val/vort/2446.npy</td>\n",
       "    </tr>\n",
       "    <tr>\n",
       "      <th>4526</th>\n",
       "      <td>1</td>\n",
       "      <td>/kaggle/input/deeplense/dataset/val/sphere/170...</td>\n",
       "    </tr>\n",
       "    <tr>\n",
       "      <th>6611</th>\n",
       "      <td>2</td>\n",
       "      <td>/kaggle/input/deeplense/dataset/val/vort/1153.npy</td>\n",
       "    </tr>\n",
       "    <tr>\n",
       "      <th>1023</th>\n",
       "      <td>0</td>\n",
       "      <td>/kaggle/input/deeplense/dataset/val/no/584.npy</td>\n",
       "    </tr>\n",
       "  </tbody>\n",
       "</table>\n",
       "</div>"
      ],
      "text/plain": [
       "      target                                          data_path\n",
       "4959       1  /kaggle/input/deeplense/dataset/val/sphere/212...\n",
       "7231       2  /kaggle/input/deeplense/dataset/val/vort/2446.npy\n",
       "4526       1  /kaggle/input/deeplense/dataset/val/sphere/170...\n",
       "6611       2  /kaggle/input/deeplense/dataset/val/vort/1153.npy\n",
       "1023       0     /kaggle/input/deeplense/dataset/val/no/584.npy"
      ]
     },
     "execution_count": 13,
     "metadata": {},
     "output_type": "execute_result"
    }
   ],
   "source": [
    "val_df.head()"
   ]
  },
  {
   "cell_type": "code",
   "execution_count": 14,
   "id": "d9a215d9",
   "metadata": {
    "execution": {
     "iopub.execute_input": "2023-03-16T17:55:26.654486Z",
     "iopub.status.busy": "2023-03-16T17:55:26.653668Z",
     "iopub.status.idle": "2023-03-16T17:55:26.658719Z",
     "shell.execute_reply": "2023-03-16T17:55:26.657845Z"
    },
    "papermill": {
     "duration": 0.014809,
     "end_time": "2023-03-16T17:55:26.660686",
     "exception": false,
     "start_time": "2023-03-16T17:55:26.645877",
     "status": "completed"
    },
    "tags": []
   },
   "outputs": [],
   "source": [
    "# If Debug is set to true and then it reduce the size of data to check the implementation immediatly\n",
    "if CFG.debug==True:\n",
    "    train_df = train_df[:10]\n",
    "    val_df = val_df[:10]"
   ]
  },
  {
   "cell_type": "code",
   "execution_count": 15,
   "id": "2665fd9e",
   "metadata": {
    "execution": {
     "iopub.execute_input": "2023-03-16T17:55:26.676008Z",
     "iopub.status.busy": "2023-03-16T17:55:26.675241Z",
     "iopub.status.idle": "2023-03-16T17:55:26.681609Z",
     "shell.execute_reply": "2023-03-16T17:55:26.680597Z"
    },
    "papermill": {
     "duration": 0.016149,
     "end_time": "2023-03-16T17:55:26.683653",
     "exception": false,
     "start_time": "2023-03-16T17:55:26.667504",
     "status": "completed"
    },
    "tags": []
   },
   "outputs": [
    {
     "data": {
      "text/plain": [
       "30000"
      ]
     },
     "execution_count": 15,
     "metadata": {},
     "output_type": "execute_result"
    }
   ],
   "source": [
    "len(train_df)"
   ]
  },
  {
   "cell_type": "code",
   "execution_count": 16,
   "id": "a1c2940f",
   "metadata": {
    "execution": {
     "iopub.execute_input": "2023-03-16T17:55:26.699181Z",
     "iopub.status.busy": "2023-03-16T17:55:26.698402Z",
     "iopub.status.idle": "2023-03-16T17:55:26.705380Z",
     "shell.execute_reply": "2023-03-16T17:55:26.704527Z"
    },
    "papermill": {
     "duration": 0.0169,
     "end_time": "2023-03-16T17:55:26.707446",
     "exception": false,
     "start_time": "2023-03-16T17:55:26.690546",
     "status": "completed"
    },
    "tags": []
   },
   "outputs": [],
   "source": [
    "# Pytorch dataset creation\n",
    "class CustomDataset(Dataset):\n",
    "\n",
    "    def __init__(self, df, transform=None):\n",
    "        self.df = df\n",
    "        self.transform = transform\n",
    "\n",
    "    def __len__(self):\n",
    "        return len(self.df)\n",
    "\n",
    "    def __getitem__(self, idx):\n",
    "        image_path = self.df['data_path']\n",
    "        image = np.load(image_path.iloc[idx]).astype(np.float32)\n",
    "        labels = self.df['target'].iloc[idx]\n",
    "        if self.transform is not None:\n",
    "            augmented = self.transform(image=image)\n",
    "            image = augmented['image']\n",
    "        return torch.tensor(image), torch.tensor(labels)"
   ]
  },
  {
   "cell_type": "code",
   "execution_count": 17,
   "id": "d192800e",
   "metadata": {
    "execution": {
     "iopub.execute_input": "2023-03-16T17:55:26.722857Z",
     "iopub.status.busy": "2023-03-16T17:55:26.722079Z",
     "iopub.status.idle": "2023-03-16T17:55:26.728508Z",
     "shell.execute_reply": "2023-03-16T17:55:26.727622Z"
    },
    "papermill": {
     "duration": 0.016187,
     "end_time": "2023-03-16T17:55:26.730537",
     "exception": false,
     "start_time": "2023-03-16T17:55:26.714350",
     "status": "completed"
    },
    "tags": []
   },
   "outputs": [],
   "source": [
    "class AverageMeter:\n",
    "    \"\"\"\n",
    "    Computes and stores the average and current value\n",
    "    \"\"\"\n",
    "\n",
    "    def __init__(self):\n",
    "        self.val = 0\n",
    "        self.avg = 0\n",
    "        self.sum = 0\n",
    "        self.count = 0\n",
    "\n",
    "    def reset(self):\n",
    "        self.val = 0\n",
    "        self.avg = 0\n",
    "        self.sum = 0\n",
    "        self.count = 0\n",
    "\n",
    "    def update(self, val, n=1):\n",
    "        self.val = val\n",
    "        self.sum += val * n\n",
    "        self.count += n\n",
    "        self.avg = self.sum / self.count"
   ]
  },
  {
   "cell_type": "code",
   "execution_count": 18,
   "id": "8e41f786",
   "metadata": {
    "execution": {
     "iopub.execute_input": "2023-03-16T17:55:26.746910Z",
     "iopub.status.busy": "2023-03-16T17:55:26.746149Z",
     "iopub.status.idle": "2023-03-16T17:55:26.775107Z",
     "shell.execute_reply": "2023-03-16T17:55:26.774080Z"
    },
    "papermill": {
     "duration": 0.03981,
     "end_time": "2023-03-16T17:55:26.777323",
     "exception": false,
     "start_time": "2023-03-16T17:55:26.737513",
     "status": "completed"
    },
    "tags": []
   },
   "outputs": [
    {
     "data": {
      "text/plain": [
       "torch.Size([1, 150, 150])"
      ]
     },
     "execution_count": 18,
     "metadata": {},
     "output_type": "execute_result"
    }
   ],
   "source": [
    "# Checking dataset\n",
    "dataa = CustomDataset(train_df)\n",
    "img, labels = dataa[0]\n",
    "img.shape"
   ]
  },
  {
   "cell_type": "code",
   "execution_count": 19,
   "id": "f0f56725",
   "metadata": {
    "execution": {
     "iopub.execute_input": "2023-03-16T17:55:26.792653Z",
     "iopub.status.busy": "2023-03-16T17:55:26.792373Z",
     "iopub.status.idle": "2023-03-16T17:55:26.799375Z",
     "shell.execute_reply": "2023-03-16T17:55:26.798357Z"
    },
    "papermill": {
     "duration": 0.017052,
     "end_time": "2023-03-16T17:55:26.801508",
     "exception": false,
     "start_time": "2023-03-16T17:55:26.784456",
     "status": "completed"
    },
    "tags": []
   },
   "outputs": [],
   "source": [
    "# Custom CNN Model\n",
    "class ConvNeuralNet(nn.Module):\n",
    "    def __init__(self, num_classes):\n",
    "        super().__init__()\n",
    "        self.conv1 = nn.Conv2d(1, 6, 5)\n",
    "        self.pool = nn.MaxPool2d(2, 2)\n",
    "        self.conv2 = nn.Conv2d(6, 16, 5)\n",
    "        self.fc1 = nn.Linear(18496, 120)\n",
    "        self.fc2 = nn.Linear(120, num_classes)\n",
    "\n",
    "    def forward(self, x):\n",
    "        x = self.pool(F.relu(self.conv1(x)))\n",
    "        x = self.pool(F.relu(self.conv2(x)))\n",
    "        x = torch.flatten(x, 1) # flatten all dimensions except batch\n",
    "        x = F.relu(self.fc1(x))\n",
    "        x = self.fc2(x)\n",
    "        return x"
   ]
  },
  {
   "cell_type": "code",
   "execution_count": 20,
   "id": "5ae02438",
   "metadata": {
    "execution": {
     "iopub.execute_input": "2023-03-16T17:55:26.817359Z",
     "iopub.status.busy": "2023-03-16T17:55:26.816649Z",
     "iopub.status.idle": "2023-03-16T17:55:26.822557Z",
     "shell.execute_reply": "2023-03-16T17:55:26.821607Z"
    },
    "papermill": {
     "duration": 0.015774,
     "end_time": "2023-03-16T17:55:26.824534",
     "exception": false,
     "start_time": "2023-03-16T17:55:26.808760",
     "status": "completed"
    },
    "tags": []
   },
   "outputs": [],
   "source": [
    "# Pretrained model\n",
    "class PretrainedModel(nn.Module):\n",
    "    def __init__(self, model_name=CFG.model_name, pretrained=False):\n",
    "        super().__init__()\n",
    "        self.model_name = model_name\n",
    "        self.pretrained = pretrained\n",
    "        self.model = timm.create_model(self.model_name, pretrained=self.pretrained, in_chans=1)\n",
    "        n_features = self.model.fc.in_features\n",
    "        self.model.fc = nn.Linear(n_features, CFG.num_classes)\n",
    "\n",
    "    def forward(self, x):\n",
    "        x = self.model(x)\n",
    "        return x\n"
   ]
  },
  {
   "cell_type": "code",
   "execution_count": 21,
   "id": "30351d9c",
   "metadata": {
    "execution": {
     "iopub.execute_input": "2023-03-16T17:55:26.839959Z",
     "iopub.status.busy": "2023-03-16T17:55:26.839419Z",
     "iopub.status.idle": "2023-03-16T17:55:26.848911Z",
     "shell.execute_reply": "2023-03-16T17:55:26.848051Z"
    },
    "papermill": {
     "duration": 0.019344,
     "end_time": "2023-03-16T17:55:26.850930",
     "exception": false,
     "start_time": "2023-03-16T17:55:26.831586",
     "status": "completed"
    },
    "tags": []
   },
   "outputs": [],
   "source": [
    "# Class containing loss, optimizer, scheduler and score method\n",
    "class train_utils():\n",
    "    def __init__(self, CFG):\n",
    "        super().__init__()\n",
    "        self.CFG = CFG\n",
    "    \n",
    "    # Defining the Loss Function\n",
    "    @property\n",
    "    def get_criterion(self):\n",
    "        if self.CFG.loss_type == \"CrossEntropyLoss\":\n",
    "            criterion = nn.CrossEntropyLoss()\n",
    "        elif self.CFG.loss_type == \"BCEWithLogitsLoss\":\n",
    "            criterion = nn.BCEWithLogitsLoss()\n",
    "        return criterion\n",
    "    \n",
    "    # Defining the Score Function\n",
    "    def get_score(self, y_true, y_pred):\n",
    "        if self.CFG.metric_type == \"accuracy_score\":\n",
    "            score =  accuracy_score(y_true, y_pred)\n",
    "        elif self.CFG.metric_type == \"roc_auc\":\n",
    "            score =  roc_auc_score(y_true, y_pred, multi_class=\"ovr\")\n",
    "        return score\n",
    "    \n",
    "    # Defining the Optimizer Function\n",
    "    def get_optimizer(self, model):\n",
    "        if self.CFG.optimizer_type == 'Adam':\n",
    "            optimizer = torch.optim.Adam(model.parameters(), lr=CFG.lr_max, weight_decay=CFG.weight_decay, amsgrad=False)\n",
    "        if self.CFG.optimizer_type == 'AdamW':\n",
    "            optimizer = torch.optim.AdamW(model.parameters(), lr=CFG.lr_max, weight_decay=CFG.weight_decay)\n",
    "        return optimizer\n",
    "    \n",
    "    # Defining the Scheduler Function\n",
    "    def get_scheduler(self, optimizer):\n",
    "        if self.CFG.scheduler_type == \"StepLR\":\n",
    "            scheduler = StepLR(optimizer, step_size=2, gamma=0.1, verbose=True)\n",
    "        return scheduler"
   ]
  },
  {
   "cell_type": "code",
   "execution_count": 22,
   "id": "d1a82399",
   "metadata": {
    "execution": {
     "iopub.execute_input": "2023-03-16T17:55:26.866783Z",
     "iopub.status.busy": "2023-03-16T17:55:26.866118Z",
     "iopub.status.idle": "2023-03-16T17:55:26.882321Z",
     "shell.execute_reply": "2023-03-16T17:55:26.881460Z"
    },
    "papermill": {
     "duration": 0.026304,
     "end_time": "2023-03-16T17:55:26.884299",
     "exception": false,
     "start_time": "2023-03-16T17:55:26.857995",
     "status": "completed"
    },
    "tags": []
   },
   "outputs": [],
   "source": [
    "class Train():\n",
    "    def __init__(self, CFG):\n",
    "        super().__init__()\n",
    "        self.CFG = CFG  \n",
    "        \n",
    "    def train_fn(self, train_loader, model, criterion, optimizer, epoch, scheduler, device):\n",
    "        model.train() # switch to training mode\n",
    "        running_loss = AverageMeter()\n",
    "        count = 0\n",
    "        for (images, labels) in tqdm(train_loader, desc=\"Train\"):\n",
    "            images = images.to(device)\n",
    "            labels = labels.to(device)\n",
    "            y_preds = model(images)\n",
    "            bs = images.size(0)\n",
    "\n",
    "            loss = criterion(y_preds, labels)\n",
    "            running_loss.update(loss.item(), bs)\n",
    "\n",
    "            loss.backward()\n",
    "            optimizer.step()\n",
    "            optimizer.zero_grad()\n",
    "\n",
    "        return running_loss.avg\n",
    "\n",
    "    def valid_fn(self, valid_loader, model, criterion, device):\n",
    "        model.eval() # switch to evaluation mode\n",
    "        preds = []\n",
    "        running_loss = AverageMeter()\n",
    "        count = 0\n",
    "\n",
    "        for (images, labels) in tqdm(valid_loader, desc=\"Validation\"):\n",
    "            images = images.to(device)\n",
    "            labels = labels.to(device)\n",
    "            bs = images.size(0)\n",
    "\n",
    "            # compute loss\n",
    "            with torch.no_grad():\n",
    "                y_preds = model(images)\n",
    "            loss = criterion(y_preds, labels)\n",
    "            running_loss.update(loss.item(), bs)\n",
    "            count += labels.shape[0]\n",
    "            # record accuracy\n",
    "            preds.append(y_preds.softmax(1).to('cpu').numpy())\n",
    "        predictions = np.concatenate(preds)\n",
    "\n",
    "        return (running_loss.avg), predictions\n",
    "    \n",
    "    # Train loop\n",
    "    def train_loop(self, train_data, valid_data):\n",
    "\n",
    "        # create dataset\n",
    "        train_dataset = CustomDataset(train_data)\n",
    "        valid_dataset = CustomDataset(valid_data)\n",
    "\n",
    "        # create dataloader\n",
    "        train_loader = DataLoader(dataset=train_dataset, batch_size=self.CFG.batch_size, shuffle=True, \n",
    "                                  num_workers=self.CFG.num_workers, pin_memory=True, drop_last=True)\n",
    "        valid_loader = DataLoader(dataset=valid_dataset, batch_size=self.CFG.batch_size, shuffle=False, \n",
    "                                  num_workers=self.CFG.num_workers, pin_memory=True, drop_last=False)\n",
    "\n",
    "        # create model and transfer to device\n",
    "    #     model = ConvNeuralNet(CFG.num_classes)\n",
    "        model = PretrainedModel(pretrained=True)\n",
    "        model.to(device)\n",
    "        \n",
    "        # Creating object of train_utils\n",
    "        train_obj = train_utils(self.CFG)\n",
    "        # select optimizer, scheduler and criterion\n",
    "        optimizer = train_obj.get_optimizer(model)\n",
    "        scheduler = train_obj.get_scheduler(optimizer)\n",
    "        criterion = train_obj.get_criterion\n",
    "\n",
    "        best_score = -1.0\n",
    "        best_loss = np.inf\n",
    "\n",
    "        # start training\n",
    "        for epoch in range(self.CFG.epochs):\n",
    "            print(\"Epoch:\", epoch+1)\n",
    "            # train\n",
    "            avg_loss = self.train_fn(train_loader, model, criterion, optimizer, epoch, scheduler, device)\n",
    "            # validation\n",
    "            avg_val_loss, preds = self.valid_fn(valid_loader, model, criterion, device)\n",
    "\n",
    "            #valid_labels = valid_folds[CFG.target_col].values\n",
    "            valid_labels = valid_data['target']\n",
    "\n",
    "            scheduler.step()\n",
    "\n",
    "            # scoring\n",
    "            score = train_obj.get_score(valid_labels, preds)\n",
    "            print(\"roc_auc_score: \", score)\n",
    "\n",
    "            # code for saving the best model\n",
    "            if score > best_score:\n",
    "                print('Score Improved')\n",
    "                best_score = score\n",
    "                print(f'Epoch {epoch+1} - Save Best Score: {best_score:.4f}')\n",
    "                torch.save({'model': model.state_dict(), \n",
    "                            'preds': preds,\n",
    "                            'optimizer': optimizer.state_dict(),\n",
    "                            'scheduler': scheduler.state_dict()},\n",
    "                            './'+f'{self.CFG.model_name}_best.pth')"
   ]
  },
  {
   "cell_type": "code",
   "execution_count": 23,
   "id": "130cae5f",
   "metadata": {
    "execution": {
     "iopub.execute_input": "2023-03-16T17:55:26.900025Z",
     "iopub.status.busy": "2023-03-16T17:55:26.899252Z",
     "iopub.status.idle": "2023-03-16T17:55:26.904228Z",
     "shell.execute_reply": "2023-03-16T17:55:26.903366Z"
    },
    "papermill": {
     "duration": 0.015023,
     "end_time": "2023-03-16T17:55:26.906257",
     "exception": false,
     "start_time": "2023-03-16T17:55:26.891234",
     "status": "completed"
    },
    "tags": []
   },
   "outputs": [],
   "source": [
    "# main\n",
    "def main():\n",
    "    \n",
    "    if CFG.train: \n",
    "        # train\n",
    "        train = Train(CFG)\n",
    "        train.train_loop(train_df, val_df)"
   ]
  },
  {
   "cell_type": "code",
   "execution_count": 24,
   "id": "e4704555",
   "metadata": {
    "execution": {
     "iopub.execute_input": "2023-03-16T17:55:26.921877Z",
     "iopub.status.busy": "2023-03-16T17:55:26.921095Z",
     "iopub.status.idle": "2023-03-16T18:00:31.342933Z",
     "shell.execute_reply": "2023-03-16T18:00:31.341934Z"
    },
    "papermill": {
     "duration": 304.432215,
     "end_time": "2023-03-16T18:00:31.345485",
     "exception": false,
     "start_time": "2023-03-16T17:55:26.913270",
     "status": "completed"
    },
    "tags": []
   },
   "outputs": [
    {
     "name": "stderr",
     "output_type": "stream",
     "text": [
      "Downloading: \"https://download.pytorch.org/models/resnet18-5c106cde.pth\" to /root/.cache/torch/hub/checkpoints/resnet18-5c106cde.pth\n"
     ]
    },
    {
     "name": "stdout",
     "output_type": "stream",
     "text": [
      "Adjusting learning rate of group 0 to 4.0000e-04.\n",
      "Epoch: 1\n"
     ]
    },
    {
     "name": "stderr",
     "output_type": "stream",
     "text": [
      "Train: 100%|██████████| 468/468 [01:54<00:00,  4.09it/s]\n",
      "Validation: 100%|██████████| 118/118 [00:25<00:00,  4.64it/s]\n"
     ]
    },
    {
     "name": "stdout",
     "output_type": "stream",
     "text": [
      "Adjusting learning rate of group 0 to 4.0000e-04.\n",
      "roc_auc_score:  0.9087085866666667\n",
      "Score Improved\n",
      "Epoch 1 - Save Best Score: 0.9087\n",
      "Epoch: 2\n"
     ]
    },
    {
     "name": "stderr",
     "output_type": "stream",
     "text": [
      "Train: 100%|██████████| 468/468 [00:33<00:00, 13.95it/s]\n",
      "Validation: 100%|██████████| 118/118 [00:06<00:00, 19.21it/s]\n"
     ]
    },
    {
     "name": "stdout",
     "output_type": "stream",
     "text": [
      "Adjusting learning rate of group 0 to 4.0000e-05.\n",
      "roc_auc_score:  0.9210429866666666\n",
      "Score Improved\n",
      "Epoch 2 - Save Best Score: 0.9210\n",
      "Epoch: 3\n"
     ]
    },
    {
     "name": "stderr",
     "output_type": "stream",
     "text": [
      "Train: 100%|██████████| 468/468 [00:33<00:00, 13.89it/s]\n",
      "Validation: 100%|██████████| 118/118 [00:06<00:00, 18.11it/s]\n"
     ]
    },
    {
     "name": "stdout",
     "output_type": "stream",
     "text": [
      "Adjusting learning rate of group 0 to 4.0000e-05.\n",
      "roc_auc_score:  0.9750700266666668\n",
      "Score Improved\n",
      "Epoch 3 - Save Best Score: 0.9751\n",
      "Epoch: 4\n"
     ]
    },
    {
     "name": "stderr",
     "output_type": "stream",
     "text": [
      "Train: 100%|██████████| 468/468 [00:33<00:00, 13.90it/s]\n",
      "Validation: 100%|██████████| 118/118 [00:06<00:00, 18.48it/s]\n"
     ]
    },
    {
     "name": "stdout",
     "output_type": "stream",
     "text": [
      "Adjusting learning rate of group 0 to 4.0000e-06.\n",
      "roc_auc_score:  0.97633568\n",
      "Score Improved\n",
      "Epoch 4 - Save Best Score: 0.9763\n",
      "Epoch: 5\n"
     ]
    },
    {
     "name": "stderr",
     "output_type": "stream",
     "text": [
      "Train: 100%|██████████| 468/468 [00:33<00:00, 13.90it/s]\n",
      "Validation: 100%|██████████| 118/118 [00:06<00:00, 18.35it/s]\n"
     ]
    },
    {
     "name": "stdout",
     "output_type": "stream",
     "text": [
      "Adjusting learning rate of group 0 to 4.0000e-06.\n",
      "roc_auc_score:  0.9794539200000001\n",
      "Score Improved\n",
      "Epoch 5 - Save Best Score: 0.9795\n"
     ]
    }
   ],
   "source": [
    "if __name__ == '__main__':\n",
    "    main()"
   ]
  },
  {
   "cell_type": "code",
   "execution_count": null,
   "id": "e12387b9",
   "metadata": {
    "papermill": {
     "duration": 0.085512,
     "end_time": "2023-03-16T18:00:31.520311",
     "exception": false,
     "start_time": "2023-03-16T18:00:31.434799",
     "status": "completed"
    },
    "tags": []
   },
   "outputs": [],
   "source": []
  },
  {
   "cell_type": "code",
   "execution_count": null,
   "id": "9a4779b5",
   "metadata": {
    "papermill": {
     "duration": 0.085279,
     "end_time": "2023-03-16T18:00:31.690765",
     "exception": false,
     "start_time": "2023-03-16T18:00:31.605486",
     "status": "completed"
    },
    "tags": []
   },
   "outputs": [],
   "source": []
  }
 ],
 "metadata": {
  "kernelspec": {
   "display_name": "Python 3",
   "language": "python",
   "name": "python3"
  },
  "language_info": {
   "codemirror_mode": {
    "name": "ipython",
    "version": 3
   },
   "file_extension": ".py",
   "mimetype": "text/x-python",
   "name": "python",
   "nbconvert_exporter": "python",
   "pygments_lexer": "ipython3",
   "version": "3.7.12"
  },
  "papermill": {
   "default_parameters": {},
   "duration": 323.914367,
   "end_time": "2023-03-16T18:00:34.521226",
   "environment_variables": {},
   "exception": null,
   "input_path": "__notebook__.ipynb",
   "output_path": "__notebook__.ipynb",
   "parameters": {},
   "start_time": "2023-03-16T17:55:10.606859",
   "version": "2.4.0"
  }
 },
 "nbformat": 4,
 "nbformat_minor": 5
}
